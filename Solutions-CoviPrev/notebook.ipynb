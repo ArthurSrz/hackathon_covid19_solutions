{
  "cells": [
    {
      "cell_type": "markdown",
      "source": "# Download coviprev by region, regions code and columns description",
      "metadata": {
        "tags": [],
        "cell_id": "00000-925640e6-f3f2-4501-b6ed-ad478ee575ca",
        "deepnote_cell_type": "markdown"
      }
    },
    {
      "cell_type": "code",
      "metadata": {
        "tags": [],
        "cell_id": "00000-78b4767e-e6d4-40d9-b40f-c2f9b065cb9b",
        "deepnote_to_be_reexecuted": false,
        "source_hash": "6254381a",
        "execution_millis": 4126,
        "execution_start": 1619179233587,
        "deepnote_cell_type": "code"
      },
      "source": "!wget https://static.data.gouv.fr/resources/donnees-denquete-relatives-a-levolution-des-comportements-et-de-la-sante-mentale-pendant-lepidemie-de-covid-19-coviprev/20201110-154959/coviprev-region.csv\n!wget https://static.data.gouv.fr/resources/donnees-denquete-relatives-a-levolution-des-comportements-et-de-la-sante-mentale-pendant-lepidemie-de-covid-19-coviprev/20200625-125516/metadata-coviprev-libelle-region.csv\n!wget https://static.data.gouv.fr/resources/donnees-denquete-relatives-a-levolution-des-comportements-et-de-la-sante-mentale-pendant-lepidemie-de-covid-19-coviprev/20200625-125516/metadata-coviprev.csv\n# Download de la liste de tous les départements par régions\n!wget https://static.data.gouv.fr/resources/departements-et-leurs-regions/20190815-175403/departements-region.csv",
      "outputs": [
        {
          "name": "stdout",
          "text": "--2021-04-23 12:00:34--  https://static.data.gouv.fr/resources/donnees-denquete-relatives-a-levolution-des-comportements-et-de-la-sante-mentale-pendant-lepidemie-de-covid-19-coviprev/20201110-154959/coviprev-region.csv\nResolving static.data.gouv.fr (static.data.gouv.fr)... 37.59.183.93\nConnecting to static.data.gouv.fr (static.data.gouv.fr)|37.59.183.93|:443... connected.\nHTTP request sent, awaiting response... 200 OK\nLength: 26769 (26K) [text/csv]\nSaving to: ‘coviprev-region.csv.1’\n\ncoviprev-region.csv 100%[===================>]  26.14K  --.-KB/s    in 0.08s   \n\n2021-04-23 12:00:34 (333 KB/s) - ‘coviprev-region.csv.1’ saved [26769/26769]\n\n--2021-04-23 12:00:35--  https://static.data.gouv.fr/resources/donnees-denquete-relatives-a-levolution-des-comportements-et-de-la-sante-mentale-pendant-lepidemie-de-covid-19-coviprev/20200625-125516/metadata-coviprev-libelle-region.csv\nResolving static.data.gouv.fr (static.data.gouv.fr)... 37.59.183.93\nConnecting to static.data.gouv.fr (static.data.gouv.fr)|37.59.183.93|:443... connected.\nHTTP request sent, awaiting response... 200 OK\nLength: 346 [text/csv]\nSaving to: ‘metadata-coviprev-libelle-region.csv’\n\nmetadata-coviprev-l 100%[===================>]     346  --.-KB/s    in 0s      \n\n2021-04-23 12:00:35 (11.5 MB/s) - ‘metadata-coviprev-libelle-region.csv’ saved [346/346]\n\n--2021-04-23 12:00:36--  https://static.data.gouv.fr/resources/donnees-denquete-relatives-a-levolution-des-comportements-et-de-la-sante-mentale-pendant-lepidemie-de-covid-19-coviprev/20200625-125516/metadata-coviprev.csv\nResolving static.data.gouv.fr (static.data.gouv.fr)... 37.59.183.93\nConnecting to static.data.gouv.fr (static.data.gouv.fr)|37.59.183.93|:443... connected.\nHTTP request sent, awaiting response... 200 OK\nLength: 6559 (6.4K) [text/csv]\nSaving to: ‘metadata-coviprev.csv’\n\nmetadata-coviprev.c 100%[===================>]   6.41K  --.-KB/s    in 0.001s  \n\n2021-04-23 12:00:37 (4.80 MB/s) - ‘metadata-coviprev.csv’ saved [6559/6559]\n\n",
          "output_type": "stream"
        }
      ],
      "execution_count": null
    },
    {
      "cell_type": "markdown",
      "source": "# Load Coviprev by region\n- Remove useless columns (too many nan or not in our goals)\n- Convert types\n- Changes values of date and region",
      "metadata": {
        "tags": [],
        "cell_id": "00002-e7981a7f-c875-402f-b49c-cd71b31b7ade",
        "deepnote_cell_type": "markdown"
      }
    },
    {
      "cell_type": "code",
      "source": "import pandas as pd\n\n# Load coviprev by region\ndf = pd.read_csv('coviprev-region.csv', sep=';')\n\n# Replace code region by name\nregions = pd.read_csv('metadata-coviprev-libelle-region.csv', sep=';').set_index('Code')\ndf['reg'] = regions.loc[df['reg']].values\n\n\n# Replace semaine by the first day of the week in datetime format\ndates = ['23/03', '30/03', '14/04', '20/04', '28/04', '04/05', '13/05', '18/05', '27/05', '08/06', \n    '22/06','06/07', '20/07', '24/08', '21/09', '19/10']\nmapping = {txt:date for txt,date in zip(df['semaine'].unique(), dates)}\ndf['semaine'] = df['semaine'].apply(lambda x: mapping[x])\ndf = df.rename(columns={'semaine': 'date', 'reg': 'region'})\n\n\n# Remove useless columns and rows (too many nan)\ndf = df.drop(['dist3mes', 'dist3mes_inf', 'dist3mes_sup', \n                'nbmoy4mesHyg', 'nbmoy4mesHyg_inf', 'nbmoy4mesHyg_sup',\n                'nbmoy7mes', 'nbmoy7mes_inf', 'nbmoy7mes_sup',\n                'dist1m', 'dist1m_inf', 'dist1m_sup',\n                'Unnamed: 29', 'Unnamed: 30', 'Unnamed: 31'], axis=1)\ndf = df.loc[df['date'] != '23/03'].reset_index(drop=True)\n\n\n# Convert columns type\nstring_columns = ['region', 'date']\nfor col in string_columns:\n    df[col] = df[col].astype(str)\n\nfloat_columns = [col for col in df.columns if col not in string_columns]\nfor col in float_columns:\n    df[col] = df[col].apply(lambda x: x.replace(',', '.')).astype(float)\n\n\n# Indicate on the name of the columns that this is in percentage (%)\nmapping = {n: n+' (%)' for n in float_columns}\ndf.rename(columns=mapping, inplace=True)\n\ndf",
      "metadata": {
        "tags": [],
        "cell_id": "00002-c295444e-031f-4a00-96d2-668c4651e85d",
        "deepnote_to_be_reexecuted": false,
        "source_hash": "204832cb",
        "execution_millis": 107,
        "execution_start": 1619194736118,
        "deepnote_cell_type": "code"
      },
      "outputs": [
        {
          "output_type": "execute_result",
          "execution_count": 148,
          "data": {
            "application/vnd.deepnote.dataframe.v2+json": {
              "row_count": 180,
              "column_count": 17,
              "columns": [
                {
                  "name": "region",
                  "dtype": "object",
                  "stats": {
                    "unique_count": 12,
                    "nan_count": 0,
                    "categories": [
                      {
                        "name": "Île-de-France",
                        "count": 15
                      },
                      {
                        "name": "Centre-Val de Loire",
                        "count": 15
                      },
                      {
                        "name": "10 others",
                        "count": 150
                      }
                    ]
                  }
                },
                {
                  "name": "date",
                  "dtype": "object",
                  "stats": {
                    "unique_count": 15,
                    "nan_count": 0,
                    "categories": [
                      {
                        "name": "30/03",
                        "count": 12
                      },
                      {
                        "name": "14/04",
                        "count": 12
                      },
                      {
                        "name": "13 others",
                        "count": 156
                      }
                    ]
                  }
                },
                {
                  "name": "anxiete (%)",
                  "dtype": "float64",
                  "stats": {
                    "unique_count": 98,
                    "nan_count": 0,
                    "min": "8.1",
                    "max": "28.3",
                    "histogram": [
                      {
                        "bin_start": 8.1,
                        "bin_end": 10.120000000000001,
                        "count": 1
                      },
                      {
                        "bin_start": 10.120000000000001,
                        "bin_end": 12.14,
                        "count": 8
                      },
                      {
                        "bin_start": 12.14,
                        "bin_end": 14.16,
                        "count": 19
                      },
                      {
                        "bin_start": 14.16,
                        "bin_end": 16.18,
                        "count": 38
                      },
                      {
                        "bin_start": 16.18,
                        "bin_end": 18.200000000000003,
                        "count": 43
                      },
                      {
                        "bin_start": 18.200000000000003,
                        "bin_end": 20.220000000000002,
                        "count": 31
                      },
                      {
                        "bin_start": 20.220000000000002,
                        "bin_end": 22.240000000000002,
                        "count": 16
                      },
                      {
                        "bin_start": 22.240000000000002,
                        "bin_end": 24.260000000000005,
                        "count": 16
                      },
                      {
                        "bin_start": 24.260000000000005,
                        "bin_end": 26.28,
                        "count": 5
                      },
                      {
                        "bin_start": 26.28,
                        "bin_end": 28.3,
                        "count": 3
                      }
                    ]
                  }
                },
                {
                  "name": "anxiete_inf (%)",
                  "dtype": "float64",
                  "stats": {
                    "unique_count": 100,
                    "nan_count": 0,
                    "min": "4.3",
                    "max": "20.8",
                    "histogram": [
                      {
                        "bin_start": 4.3,
                        "bin_end": 5.949999999999999,
                        "count": 1
                      },
                      {
                        "bin_start": 5.949999999999999,
                        "bin_end": 7.6,
                        "count": 10
                      },
                      {
                        "bin_start": 7.6,
                        "bin_end": 9.25,
                        "count": 22
                      },
                      {
                        "bin_start": 9.25,
                        "bin_end": 10.899999999999999,
                        "count": 32
                      },
                      {
                        "bin_start": 10.899999999999999,
                        "bin_end": 12.55,
                        "count": 38
                      },
                      {
                        "bin_start": 12.55,
                        "bin_end": 14.2,
                        "count": 29
                      },
                      {
                        "bin_start": 14.2,
                        "bin_end": 15.849999999999998,
                        "count": 22
                      },
                      {
                        "bin_start": 15.849999999999998,
                        "bin_end": 17.5,
                        "count": 14
                      },
                      {
                        "bin_start": 17.5,
                        "bin_end": 19.15,
                        "count": 7
                      },
                      {
                        "bin_start": 19.15,
                        "bin_end": 20.8,
                        "count": 5
                      }
                    ]
                  }
                },
                {
                  "name": "anxiete_sup (%)",
                  "dtype": "float64",
                  "stats": {
                    "unique_count": 111,
                    "nan_count": 0,
                    "min": "15.0",
                    "max": "37.8",
                    "histogram": [
                      {
                        "bin_start": 15,
                        "bin_end": 17.28,
                        "count": 3
                      },
                      {
                        "bin_start": 17.28,
                        "bin_end": 19.56,
                        "count": 12
                      },
                      {
                        "bin_start": 19.56,
                        "bin_end": 21.84,
                        "count": 29
                      },
                      {
                        "bin_start": 21.84,
                        "bin_end": 24.119999999999997,
                        "count": 43
                      },
                      {
                        "bin_start": 24.119999999999997,
                        "bin_end": 26.4,
                        "count": 35
                      },
                      {
                        "bin_start": 26.4,
                        "bin_end": 28.68,
                        "count": 25
                      },
                      {
                        "bin_start": 28.68,
                        "bin_end": 30.96,
                        "count": 17
                      },
                      {
                        "bin_start": 30.96,
                        "bin_end": 33.239999999999995,
                        "count": 11
                      },
                      {
                        "bin_start": 33.239999999999995,
                        "bin_end": 35.519999999999996,
                        "count": 4
                      },
                      {
                        "bin_start": 35.519999999999996,
                        "bin_end": 37.8,
                        "count": 1
                      }
                    ]
                  }
                },
                {
                  "name": "depression (%)",
                  "dtype": "float64",
                  "stats": {
                    "unique_count": 107,
                    "nan_count": 0,
                    "min": "4.7",
                    "max": "27.7",
                    "histogram": [
                      {
                        "bin_start": 4.7,
                        "bin_end": 7,
                        "count": 4
                      },
                      {
                        "bin_start": 7,
                        "bin_end": 9.3,
                        "count": 21
                      },
                      {
                        "bin_start": 9.3,
                        "bin_end": 11.6,
                        "count": 38
                      },
                      {
                        "bin_start": 11.6,
                        "bin_end": 13.899999999999999,
                        "count": 36
                      },
                      {
                        "bin_start": 13.899999999999999,
                        "bin_end": 16.2,
                        "count": 23
                      },
                      {
                        "bin_start": 16.2,
                        "bin_end": 18.5,
                        "count": 20
                      },
                      {
                        "bin_start": 18.5,
                        "bin_end": 20.799999999999997,
                        "count": 20
                      },
                      {
                        "bin_start": 20.799999999999997,
                        "bin_end": 23.099999999999998,
                        "count": 9
                      },
                      {
                        "bin_start": 23.099999999999998,
                        "bin_end": 25.4,
                        "count": 6
                      },
                      {
                        "bin_start": 25.4,
                        "bin_end": 27.7,
                        "count": 3
                      }
                    ]
                  }
                },
                {
                  "name": "depression_inf (%)",
                  "dtype": "float64",
                  "stats": {
                    "unique_count": 105,
                    "nan_count": 0,
                    "min": "1.9",
                    "max": "19.6",
                    "histogram": [
                      {
                        "bin_start": 1.9,
                        "bin_end": 3.67,
                        "count": 4
                      },
                      {
                        "bin_start": 3.67,
                        "bin_end": 5.44,
                        "count": 23
                      },
                      {
                        "bin_start": 5.44,
                        "bin_end": 7.210000000000001,
                        "count": 33
                      },
                      {
                        "bin_start": 7.210000000000001,
                        "bin_end": 8.98,
                        "count": 28
                      },
                      {
                        "bin_start": 8.98,
                        "bin_end": 10.750000000000002,
                        "count": 28
                      },
                      {
                        "bin_start": 10.750000000000002,
                        "bin_end": 12.520000000000001,
                        "count": 22
                      },
                      {
                        "bin_start": 12.520000000000001,
                        "bin_end": 14.290000000000003,
                        "count": 17
                      },
                      {
                        "bin_start": 14.290000000000003,
                        "bin_end": 16.060000000000002,
                        "count": 10
                      },
                      {
                        "bin_start": 16.060000000000002,
                        "bin_end": 17.830000000000002,
                        "count": 10
                      },
                      {
                        "bin_start": 17.830000000000002,
                        "bin_end": 19.6,
                        "count": 5
                      }
                    ]
                  }
                },
                {
                  "name": "depression_sup (%)",
                  "dtype": "float64",
                  "stats": {
                    "unique_count": 114,
                    "nan_count": 0,
                    "min": "10.8",
                    "max": "38.8",
                    "histogram": [
                      {
                        "bin_start": 10.8,
                        "bin_end": 13.600000000000001,
                        "count": 6
                      },
                      {
                        "bin_start": 13.600000000000001,
                        "bin_end": 16.4,
                        "count": 32
                      },
                      {
                        "bin_start": 16.4,
                        "bin_end": 19.2,
                        "count": 48
                      },
                      {
                        "bin_start": 19.2,
                        "bin_end": 22,
                        "count": 29
                      },
                      {
                        "bin_start": 22,
                        "bin_end": 24.8,
                        "count": 21
                      },
                      {
                        "bin_start": 24.8,
                        "bin_end": 27.599999999999998,
                        "count": 24
                      },
                      {
                        "bin_start": 27.599999999999998,
                        "bin_end": 30.4,
                        "count": 9
                      },
                      {
                        "bin_start": 30.4,
                        "bin_end": 33.2,
                        "count": 7
                      },
                      {
                        "bin_start": 33.2,
                        "bin_end": 36,
                        "count": 3
                      },
                      {
                        "bin_start": 36,
                        "bin_end": 38.8,
                        "count": 1
                      }
                    ]
                  }
                },
                {
                  "name": "pbsommeil (%)",
                  "dtype": "float64",
                  "stats": {
                    "unique_count": 111,
                    "nan_count": 0,
                    "min": "52.0",
                    "max": "78.5",
                    "histogram": [
                      {
                        "bin_start": 52,
                        "bin_end": 54.65,
                        "count": 2
                      },
                      {
                        "bin_start": 54.65,
                        "bin_end": 57.3,
                        "count": 7
                      },
                      {
                        "bin_start": 57.3,
                        "bin_end": 59.95,
                        "count": 24
                      },
                      {
                        "bin_start": 59.95,
                        "bin_end": 62.6,
                        "count": 25
                      },
                      {
                        "bin_start": 62.6,
                        "bin_end": 65.25,
                        "count": 45
                      },
                      {
                        "bin_start": 65.25,
                        "bin_end": 67.9,
                        "count": 31
                      },
                      {
                        "bin_start": 67.9,
                        "bin_end": 70.55,
                        "count": 25
                      },
                      {
                        "bin_start": 70.55,
                        "bin_end": 73.2,
                        "count": 15
                      },
                      {
                        "bin_start": 73.2,
                        "bin_end": 75.85,
                        "count": 5
                      },
                      {
                        "bin_start": 75.85,
                        "bin_end": 78.5,
                        "count": 1
                      }
                    ]
                  }
                },
                {
                  "name": "pbsommeil_inf (%)",
                  "dtype": "float64",
                  "stats": {
                    "unique_count": 124,
                    "nan_count": 0,
                    "min": "42.4",
                    "max": "72.0",
                    "histogram": [
                      {
                        "bin_start": 42.4,
                        "bin_end": 45.36,
                        "count": 5
                      },
                      {
                        "bin_start": 45.36,
                        "bin_end": 48.32,
                        "count": 5
                      },
                      {
                        "bin_start": 48.32,
                        "bin_end": 51.28,
                        "count": 21
                      },
                      {
                        "bin_start": 51.28,
                        "bin_end": 54.239999999999995,
                        "count": 25
                      },
                      {
                        "bin_start": 54.239999999999995,
                        "bin_end": 57.2,
                        "count": 34
                      },
                      {
                        "bin_start": 57.2,
                        "bin_end": 60.16,
                        "count": 36
                      },
                      {
                        "bin_start": 60.16,
                        "bin_end": 63.12,
                        "count": 27
                      },
                      {
                        "bin_start": 63.12,
                        "bin_end": 66.08,
                        "count": 19
                      },
                      {
                        "bin_start": 66.08,
                        "bin_end": 69.03999999999999,
                        "count": 3
                      },
                      {
                        "bin_start": 69.03999999999999,
                        "bin_end": 72,
                        "count": 5
                      }
                    ]
                  }
                },
                {
                  "name": "pbsommeil_sup (%)",
                  "dtype": "float64",
                  "stats": {
                    "unique_count": 111,
                    "nan_count": 0,
                    "min": "61.4",
                    "max": "85.5",
                    "histogram": [
                      {
                        "bin_start": 61.4,
                        "bin_end": 63.81,
                        "count": 3
                      },
                      {
                        "bin_start": 63.81,
                        "bin_end": 66.22,
                        "count": 12
                      },
                      {
                        "bin_start": 66.22,
                        "bin_end": 68.63,
                        "count": 31
                      },
                      {
                        "bin_start": 68.63,
                        "bin_end": 71.03999999999999,
                        "count": 31
                      },
                      {
                        "bin_start": 71.03999999999999,
                        "bin_end": 73.45,
                        "count": 40
                      },
                      {
                        "bin_start": 73.45,
                        "bin_end": 75.86,
                        "count": 27
                      },
                      {
                        "bin_start": 75.86,
                        "bin_end": 78.27,
                        "count": 16
                      },
                      {
                        "bin_start": 78.27,
                        "bin_end": 80.68,
                        "count": 12
                      },
                      {
                        "bin_start": 80.68,
                        "bin_end": 83.09,
                        "count": 6
                      },
                      {
                        "bin_start": 83.09,
                        "bin_end": 85.5,
                        "count": 2
                      }
                    ]
                  }
                },
                {
                  "name": "hyg4mes (%)",
                  "dtype": "float64",
                  "stats": {
                    "unique_count": 126,
                    "nan_count": 0,
                    "min": "22.9",
                    "max": "57.1",
                    "histogram": [
                      {
                        "bin_start": 22.9,
                        "bin_end": 26.32,
                        "count": 4
                      },
                      {
                        "bin_start": 26.32,
                        "bin_end": 29.74,
                        "count": 5
                      },
                      {
                        "bin_start": 29.74,
                        "bin_end": 33.16,
                        "count": 25
                      },
                      {
                        "bin_start": 33.16,
                        "bin_end": 36.58,
                        "count": 30
                      },
                      {
                        "bin_start": 36.58,
                        "bin_end": 40,
                        "count": 19
                      },
                      {
                        "bin_start": 40,
                        "bin_end": 43.42,
                        "count": 39
                      },
                      {
                        "bin_start": 43.42,
                        "bin_end": 46.84,
                        "count": 27
                      },
                      {
                        "bin_start": 46.84,
                        "bin_end": 50.260000000000005,
                        "count": 21
                      },
                      {
                        "bin_start": 50.260000000000005,
                        "bin_end": 53.68000000000001,
                        "count": 4
                      },
                      {
                        "bin_start": 53.68000000000001,
                        "bin_end": 57.1,
                        "count": 6
                      }
                    ]
                  }
                },
                {
                  "name": "hyg4mes_inf (%)",
                  "dtype": "float64",
                  "stats": {
                    "unique_count": 128,
                    "nan_count": 0,
                    "min": "16.0",
                    "max": "49.6",
                    "histogram": [
                      {
                        "bin_start": 16,
                        "bin_end": 19.36,
                        "count": 4
                      },
                      {
                        "bin_start": 19.36,
                        "bin_end": 22.72,
                        "count": 5
                      },
                      {
                        "bin_start": 22.72,
                        "bin_end": 26.080000000000002,
                        "count": 27
                      },
                      {
                        "bin_start": 26.080000000000002,
                        "bin_end": 29.44,
                        "count": 30
                      },
                      {
                        "bin_start": 29.44,
                        "bin_end": 32.8,
                        "count": 23
                      },
                      {
                        "bin_start": 32.8,
                        "bin_end": 36.160000000000004,
                        "count": 38
                      },
                      {
                        "bin_start": 36.160000000000004,
                        "bin_end": 39.52,
                        "count": 24
                      },
                      {
                        "bin_start": 39.52,
                        "bin_end": 42.88,
                        "count": 21
                      },
                      {
                        "bin_start": 42.88,
                        "bin_end": 46.24,
                        "count": 3
                      },
                      {
                        "bin_start": 46.24,
                        "bin_end": 49.6,
                        "count": 5
                      }
                    ]
                  }
                },
                {
                  "name": "hyg4mes_sup (%)",
                  "dtype": "float64",
                  "stats": {
                    "unique_count": 133,
                    "nan_count": 0,
                    "min": "31.7",
                    "max": "65.8",
                    "histogram": [
                      {
                        "bin_start": 31.7,
                        "bin_end": 35.11,
                        "count": 5
                      },
                      {
                        "bin_start": 35.11,
                        "bin_end": 38.519999999999996,
                        "count": 13
                      },
                      {
                        "bin_start": 38.519999999999996,
                        "bin_end": 41.92999999999999,
                        "count": 18
                      },
                      {
                        "bin_start": 41.92999999999999,
                        "bin_end": 45.339999999999996,
                        "count": 27
                      },
                      {
                        "bin_start": 45.339999999999996,
                        "bin_end": 48.75,
                        "count": 31
                      },
                      {
                        "bin_start": 48.75,
                        "bin_end": 52.16,
                        "count": 33
                      },
                      {
                        "bin_start": 52.16,
                        "bin_end": 55.56999999999999,
                        "count": 27
                      },
                      {
                        "bin_start": 55.56999999999999,
                        "bin_end": 58.97999999999999,
                        "count": 15
                      },
                      {
                        "bin_start": 58.97999999999999,
                        "bin_end": 62.38999999999999,
                        "count": 4
                      },
                      {
                        "bin_start": 62.38999999999999,
                        "bin_end": 65.8,
                        "count": 7
                      }
                    ]
                  }
                },
                {
                  "name": "portmasque (%)",
                  "dtype": "float64",
                  "stats": {
                    "unique_count": 158,
                    "nan_count": 0,
                    "min": "9.3",
                    "max": "83.7",
                    "histogram": [
                      {
                        "bin_start": 9.3,
                        "bin_end": 16.740000000000002,
                        "count": 9
                      },
                      {
                        "bin_start": 16.740000000000002,
                        "bin_end": 24.18,
                        "count": 16
                      },
                      {
                        "bin_start": 24.18,
                        "bin_end": 31.62,
                        "count": 19
                      },
                      {
                        "bin_start": 31.62,
                        "bin_end": 39.06,
                        "count": 12
                      },
                      {
                        "bin_start": 39.06,
                        "bin_end": 46.5,
                        "count": 23
                      },
                      {
                        "bin_start": 46.5,
                        "bin_end": 53.94,
                        "count": 37
                      },
                      {
                        "bin_start": 53.94,
                        "bin_end": 61.38000000000001,
                        "count": 22
                      },
                      {
                        "bin_start": 61.38000000000001,
                        "bin_end": 68.82000000000001,
                        "count": 14
                      },
                      {
                        "bin_start": 68.82000000000001,
                        "bin_end": 76.26,
                        "count": 16
                      },
                      {
                        "bin_start": 76.26,
                        "bin_end": 83.7,
                        "count": 12
                      }
                    ]
                  }
                },
                {
                  "name": "portmasque_inf (%)",
                  "dtype": "float64",
                  "stats": {
                    "unique_count": 155,
                    "nan_count": 0,
                    "min": "5.0",
                    "max": "77.7",
                    "histogram": [
                      {
                        "bin_start": 5,
                        "bin_end": 12.27,
                        "count": 11
                      },
                      {
                        "bin_start": 12.27,
                        "bin_end": 19.54,
                        "count": 18
                      },
                      {
                        "bin_start": 19.54,
                        "bin_end": 26.810000000000002,
                        "count": 17
                      },
                      {
                        "bin_start": 26.810000000000002,
                        "bin_end": 34.08,
                        "count": 17
                      },
                      {
                        "bin_start": 34.08,
                        "bin_end": 41.35,
                        "count": 28
                      },
                      {
                        "bin_start": 41.35,
                        "bin_end": 48.620000000000005,
                        "count": 33
                      },
                      {
                        "bin_start": 48.620000000000005,
                        "bin_end": 55.89,
                        "count": 20
                      },
                      {
                        "bin_start": 55.89,
                        "bin_end": 63.160000000000004,
                        "count": 15
                      },
                      {
                        "bin_start": 63.160000000000004,
                        "bin_end": 70.43,
                        "count": 12
                      },
                      {
                        "bin_start": 70.43,
                        "bin_end": 77.7,
                        "count": 9
                      }
                    ]
                  }
                },
                {
                  "name": "portmasque_sup (%)",
                  "dtype": "float64",
                  "stats": {
                    "unique_count": 155,
                    "nan_count": 0,
                    "min": "16.6",
                    "max": "89.4",
                    "histogram": [
                      {
                        "bin_start": 16.6,
                        "bin_end": 23.880000000000003,
                        "count": 11
                      },
                      {
                        "bin_start": 23.880000000000003,
                        "bin_end": 31.160000000000004,
                        "count": 12
                      },
                      {
                        "bin_start": 31.160000000000004,
                        "bin_end": 38.440000000000005,
                        "count": 18
                      },
                      {
                        "bin_start": 38.440000000000005,
                        "bin_end": 45.720000000000006,
                        "count": 13
                      },
                      {
                        "bin_start": 45.720000000000006,
                        "bin_end": 53.00000000000001,
                        "count": 17
                      },
                      {
                        "bin_start": 53.00000000000001,
                        "bin_end": 60.28000000000001,
                        "count": 38
                      },
                      {
                        "bin_start": 60.28000000000001,
                        "bin_end": 67.56,
                        "count": 26
                      },
                      {
                        "bin_start": 67.56,
                        "bin_end": 74.84,
                        "count": 14
                      },
                      {
                        "bin_start": 74.84,
                        "bin_end": 82.12,
                        "count": 18
                      },
                      {
                        "bin_start": 82.12,
                        "bin_end": 89.4,
                        "count": 13
                      }
                    ]
                  }
                },
                {
                  "name": "_deepnote_index_column",
                  "dtype": "int64"
                }
              ],
              "rows_top": [
                {
                  "region": "Île-de-France",
                  "date": "30/03",
                  "anxiete (%)": 19.4,
                  "anxiete_inf (%)": 15.6,
                  "anxiete_sup (%)": 23.9,
                  "depression (%)": 20.6,
                  "depression_inf (%)": 16.7,
                  "depression_sup (%)": 25.1,
                  "pbsommeil (%)": 63.5,
                  "pbsommeil_inf (%)": 58.4,
                  "pbsommeil_sup (%)": 68.4,
                  "hyg4mes (%)": 44.9,
                  "hyg4mes_inf (%)": 39.7,
                  "hyg4mes_sup (%)": 50.1,
                  "portmasque (%)": 16.2,
                  "portmasque_inf (%)": 12.7,
                  "portmasque_sup (%)": 20.5,
                  "_deepnote_index_column": 0
                },
                {
                  "region": "Centre-Val de Loire",
                  "date": "30/03",
                  "anxiete (%)": 22.4,
                  "anxiete_inf (%)": 14.4,
                  "anxiete_sup (%)": 33.2,
                  "depression (%)": 27.7,
                  "depression_inf (%)": 18.8,
                  "depression_sup (%)": 38.8,
                  "pbsommeil (%)": 61.7,
                  "pbsommeil_inf (%)": 50.4,
                  "pbsommeil_sup (%)": 71.9,
                  "hyg4mes (%)": 52.3,
                  "hyg4mes_inf (%)": 41.1,
                  "hyg4mes_sup (%)": 63.3,
                  "portmasque (%)": 11.9,
                  "portmasque_inf (%)": 6.3,
                  "portmasque_sup (%)": 21.5,
                  "_deepnote_index_column": 1
                },
                {
                  "region": "Bourgogne-Franche-Comté",
                  "date": "30/03",
                  "anxiete (%)": 17.6,
                  "anxiete_inf (%)": 10.9,
                  "anxiete_sup (%)": 27.3,
                  "depression (%)": 17.8,
                  "depression_inf (%)": 11.1,
                  "depression_sup (%)": 27.2,
                  "pbsommeil (%)": 55,
                  "pbsommeil_inf (%)": 44.6,
                  "pbsommeil_sup (%)": 65.1,
                  "hyg4mes (%)": 55.8,
                  "hyg4mes_inf (%)": 45.3,
                  "hyg4mes_sup (%)": 65.8,
                  "portmasque (%)": 21.1,
                  "portmasque_inf (%)": 13.9,
                  "portmasque_sup (%)": 30.9,
                  "_deepnote_index_column": 2
                },
                {
                  "region": "Normandie",
                  "date": "30/03",
                  "anxiete (%)": 22.8,
                  "anxiete_inf (%)": 15.7,
                  "anxiete_sup (%)": 31.8,
                  "depression (%)": 19,
                  "depression_inf (%)": 12.6,
                  "depression_sup (%)": 27.7,
                  "pbsommeil (%)": 60.9,
                  "pbsommeil_inf (%)": 51.2,
                  "pbsommeil_sup (%)": 69.8,
                  "hyg4mes (%)": 44.6,
                  "hyg4mes_inf (%)": 35.4,
                  "hyg4mes_sup (%)": 54.2,
                  "portmasque (%)": 9.3,
                  "portmasque_inf (%)": 5,
                  "portmasque_sup (%)": 16.6,
                  "_deepnote_index_column": 3
                },
                {
                  "region": "Hauts-de-France",
                  "date": "30/03",
                  "anxiete (%)": 22.6,
                  "anxiete_inf (%)": 17.2,
                  "anxiete_sup (%)": 29.1,
                  "depression (%)": 16.4,
                  "depression_inf (%)": 11.8,
                  "depression_sup (%)": 22.3,
                  "pbsommeil (%)": 64.9,
                  "pbsommeil_inf (%)": 57.8,
                  "pbsommeil_sup (%)": 71.4,
                  "hyg4mes (%)": 48,
                  "hyg4mes_inf (%)": 41,
                  "hyg4mes_sup (%)": 55.1,
                  "portmasque (%)": 12.5,
                  "portmasque_inf (%)": 8.5,
                  "portmasque_sup (%)": 18.1,
                  "_deepnote_index_column": 4
                },
                {
                  "region": "Grand-Est",
                  "date": "30/03",
                  "anxiete (%)": 26.4,
                  "anxiete_inf (%)": 20.4,
                  "anxiete_sup (%)": 33.5,
                  "depression (%)": 25.2,
                  "depression_inf (%)": 19.3,
                  "depression_sup (%)": 32.2,
                  "pbsommeil (%)": 60.5,
                  "pbsommeil_inf (%)": 53,
                  "pbsommeil_sup (%)": 67.6,
                  "hyg4mes (%)": 57.1,
                  "hyg4mes_inf (%)": 49.6,
                  "hyg4mes_sup (%)": 64.3,
                  "portmasque (%)": 17,
                  "portmasque_inf (%)": 12.1,
                  "portmasque_sup (%)": 23.5,
                  "_deepnote_index_column": 5
                },
                {
                  "region": "Pays de la Loire",
                  "date": "30/03",
                  "anxiete (%)": 17.9,
                  "anxiete_inf (%)": 11.9,
                  "anxiete_sup (%)": 25.9,
                  "depression (%)": 14.6,
                  "depression_inf (%)": 9.2,
                  "depression_sup (%)": 22.2,
                  "pbsommeil (%)": 57.2,
                  "pbsommeil_inf (%)": 48,
                  "pbsommeil_sup (%)": 65.9,
                  "hyg4mes (%)": 40.2,
                  "hyg4mes_inf (%)": 31.6,
                  "hyg4mes_sup (%)": 49.3,
                  "portmasque (%)": 14.3,
                  "portmasque_inf (%)": 8.9,
                  "portmasque_sup (%)": 22,
                  "_deepnote_index_column": 6
                },
                {
                  "region": "Bretagne",
                  "date": "30/03",
                  "anxiete (%)": 19.3,
                  "anxiete_inf (%)": 12.9,
                  "anxiete_sup (%)": 27.8,
                  "depression (%)": 21.4,
                  "depression_inf (%)": 14.6,
                  "depression_sup (%)": 30.2,
                  "pbsommeil (%)": 63.3,
                  "pbsommeil_inf (%)": 53.7,
                  "pbsommeil_sup (%)": 71.9,
                  "hyg4mes (%)": 53.4,
                  "hyg4mes_inf (%)": 43.9,
                  "hyg4mes_sup (%)": 62.7,
                  "portmasque (%)": 14,
                  "portmasque_inf (%)": 8.6,
                  "portmasque_sup (%)": 21.9,
                  "_deepnote_index_column": 7
                },
                {
                  "region": "Nouvelle-Aquitaine",
                  "date": "30/03",
                  "anxiete (%)": 17.9,
                  "anxiete_inf (%)": 13,
                  "anxiete_sup (%)": 24.1,
                  "depression (%)": 17.8,
                  "depression_inf (%)": 13,
                  "depression_sup (%)": 24.1,
                  "pbsommeil (%)": 60.1,
                  "pbsommeil_inf (%)": 53,
                  "pbsommeil_sup (%)": 66.9,
                  "hyg4mes (%)": 48.5,
                  "hyg4mes_inf (%)": 41.4,
                  "hyg4mes_sup (%)": 55.7,
                  "portmasque (%)": 15.1,
                  "portmasque_inf (%)": 10.7,
                  "portmasque_sup (%)": 20.9,
                  "_deepnote_index_column": 8
                },
                {
                  "region": "Occitanie",
                  "date": "30/03",
                  "anxiete (%)": 26.1,
                  "anxiete_inf (%)": 20.2,
                  "anxiete_sup (%)": 32.9,
                  "depression (%)": 23.5,
                  "depression_inf (%)": 17.9,
                  "depression_sup (%)": 30.3,
                  "pbsommeil (%)": 58.1,
                  "pbsommeil_inf (%)": 50.8,
                  "pbsommeil_sup (%)": 65.1,
                  "hyg4mes (%)": 56.4,
                  "hyg4mes_inf (%)": 49.1,
                  "hyg4mes_sup (%)": 63.5,
                  "portmasque (%)": 17.2,
                  "portmasque_inf (%)": 12.4,
                  "portmasque_sup (%)": 23.4,
                  "_deepnote_index_column": 9
                },
                {
                  "region": "Auvergne-Rhône-Alpes",
                  "date": "30/03",
                  "anxiete (%)": 22.9,
                  "anxiete_inf (%)": 18.1,
                  "anxiete_sup (%)": 28.6,
                  "depression (%)": 18.5,
                  "depression_inf (%)": 14.2,
                  "depression_sup (%)": 23.8,
                  "pbsommeil (%)": 62.2,
                  "pbsommeil_inf (%)": 56,
                  "pbsommeil_sup (%)": 68.1,
                  "hyg4mes (%)": 48.5,
                  "hyg4mes_inf (%)": 42.3,
                  "hyg4mes_sup (%)": 54.7,
                  "portmasque (%)": 13.9,
                  "portmasque_inf (%)": 10.1,
                  "portmasque_sup (%)": 18.8,
                  "_deepnote_index_column": 10
                },
                {
                  "region": "Provence-Alpes-Côte d'Azur",
                  "date": "30/03",
                  "anxiete (%)": 21.6,
                  "anxiete_inf (%)": 15.9,
                  "anxiete_sup (%)": 28.6,
                  "depression (%)": 17.2,
                  "depression_inf (%)": 12.1,
                  "depression_sup (%)": 23.9,
                  "pbsommeil (%)": 61.7,
                  "pbsommeil_inf (%)": 54.7,
                  "pbsommeil_sup (%)": 68.9,
                  "hyg4mes (%)": 56.4,
                  "hyg4mes_inf (%)": 48.7,
                  "hyg4mes_sup (%)": 63.9,
                  "portmasque (%)": 16.6,
                  "portmasque_inf (%)": 11.6,
                  "portmasque_sup (%)": 23.2,
                  "_deepnote_index_column": 11
                },
                {
                  "region": "Île-de-France",
                  "date": "14/04",
                  "anxiete (%)": 17.8,
                  "anxiete_inf (%)": 14,
                  "anxiete_sup (%)": 22.2,
                  "depression (%)": 20.3,
                  "depression_inf (%)": 16.4,
                  "depression_sup (%)": 25,
                  "pbsommeil (%)": 62.1,
                  "pbsommeil_inf (%)": 56.8,
                  "pbsommeil_sup (%)": 67.1,
                  "hyg4mes (%)": 47.1,
                  "hyg4mes_inf (%)": 41.8,
                  "hyg4mes_sup (%)": 52.4,
                  "portmasque (%)": 27.2,
                  "portmasque_inf (%)": 22.8,
                  "portmasque_sup (%)": 32.2,
                  "_deepnote_index_column": 12
                },
                {
                  "region": "Centre-Val de Loire",
                  "date": "14/04",
                  "anxiete (%)": 22.8,
                  "anxiete_inf (%)": 15,
                  "anxiete_sup (%)": 33.1,
                  "depression (%)": 18.5,
                  "depression_inf (%)": 11.6,
                  "depression_sup (%)": 28.3,
                  "pbsommeil (%)": 67.7,
                  "pbsommeil_inf (%)": 57,
                  "pbsommeil_sup (%)": 76.9,
                  "hyg4mes (%)": 50.3,
                  "hyg4mes_inf (%)": 39.7,
                  "hyg4mes_sup (%)": 60.8,
                  "portmasque (%)": 21.5,
                  "portmasque_inf (%)": 14,
                  "portmasque_sup (%)": 31.6,
                  "_deepnote_index_column": 13
                },
                {
                  "region": "Bourgogne-Franche-Comté",
                  "date": "14/04",
                  "anxiete (%)": 17.5,
                  "anxiete_inf (%)": 11,
                  "anxiete_sup (%)": 26.7,
                  "depression (%)": 18,
                  "depression_inf (%)": 11.3,
                  "depression_sup (%)": 27.5,
                  "pbsommeil (%)": 61.4,
                  "pbsommeil_inf (%)": 51.1,
                  "pbsommeil_sup (%)": 70.8,
                  "hyg4mes (%)": 45.1,
                  "hyg4mes_inf (%)": 35.2,
                  "hyg4mes_sup (%)": 55.3,
                  "portmasque (%)": 17.4,
                  "portmasque_inf (%)": 10.9,
                  "portmasque_sup (%)": 26.7,
                  "_deepnote_index_column": 14
                },
                {
                  "region": "Normandie",
                  "date": "14/04",
                  "anxiete (%)": 26,
                  "anxiete_inf (%)": 18.5,
                  "anxiete_sup (%)": 35.4,
                  "depression (%)": 19.5,
                  "depression_inf (%)": 13,
                  "depression_sup (%)": 28.2,
                  "pbsommeil (%)": 72.2,
                  "pbsommeil_inf (%)": 62.8,
                  "pbsommeil_sup (%)": 80,
                  "hyg4mes (%)": 50.7,
                  "hyg4mes_inf (%)": 41.2,
                  "hyg4mes_sup (%)": 60.2,
                  "portmasque (%)": 24.8,
                  "portmasque_inf (%)": 17.4,
                  "portmasque_sup (%)": 34.1,
                  "_deepnote_index_column": 15
                },
                {
                  "region": "Hauts-de-France",
                  "date": "14/04",
                  "anxiete (%)": 22.8,
                  "anxiete_inf (%)": 17.4,
                  "anxiete_sup (%)": 29.3,
                  "depression (%)": 20,
                  "depression_inf (%)": 14.9,
                  "depression_sup (%)": 26.3,
                  "pbsommeil (%)": 68.5,
                  "pbsommeil_inf (%)": 61.6,
                  "pbsommeil_sup (%)": 74.7,
                  "hyg4mes (%)": 44.4,
                  "hyg4mes_inf (%)": 37.5,
                  "hyg4mes_sup (%)": 51.5,
                  "portmasque (%)": 21.3,
                  "portmasque_inf (%)": 16.1,
                  "portmasque_sup (%)": 27.7,
                  "_deepnote_index_column": 16
                },
                {
                  "region": "Grand-Est",
                  "date": "14/04",
                  "anxiete (%)": 16.8,
                  "anxiete_inf (%)": 12,
                  "anxiete_sup (%)": 22.9,
                  "depression (%)": 17.5,
                  "depression_inf (%)": 12.6,
                  "depression_sup (%)": 23.9,
                  "pbsommeil (%)": 63.4,
                  "pbsommeil_inf (%)": 56,
                  "pbsommeil_sup (%)": 70.2,
                  "hyg4mes (%)": 42.8,
                  "hyg4mes_inf (%)": 35.7,
                  "hyg4mes_sup (%)": 50.2,
                  "portmasque (%)": 20,
                  "portmasque_inf (%)": 14.8,
                  "portmasque_sup (%)": 26.4,
                  "_deepnote_index_column": 17
                },
                {
                  "region": "Pays de la Loire",
                  "date": "14/04",
                  "anxiete (%)": 17.6,
                  "anxiete_inf (%)": 11.8,
                  "anxiete_sup (%)": 25.3,
                  "depression (%)": 13.8,
                  "depression_inf (%)": 8.7,
                  "depression_sup (%)": 21.1,
                  "pbsommeil (%)": 65.5,
                  "pbsommeil_inf (%)": 56.7,
                  "pbsommeil_sup (%)": 73.5,
                  "hyg4mes (%)": 41.3,
                  "hyg4mes_inf (%)": 32.9,
                  "hyg4mes_sup (%)": 50.2,
                  "portmasque (%)": 19.3,
                  "portmasque_inf (%)": 13.2,
                  "portmasque_sup (%)": 27.2,
                  "_deepnote_index_column": 18
                },
                {
                  "region": "Bretagne",
                  "date": "14/04",
                  "anxiete (%)": 15.3,
                  "anxiete_inf (%)": 9.6,
                  "anxiete_sup (%)": 23.7,
                  "depression (%)": 18.6,
                  "depression_inf (%)": 12.2,
                  "depression_sup (%)": 27.4,
                  "pbsommeil (%)": 64.9,
                  "pbsommeil_inf (%)": 55.4,
                  "pbsommeil_sup (%)": 73.4,
                  "hyg4mes (%)": 44,
                  "hyg4mes_inf (%)": 34.8,
                  "hyg4mes_sup (%)": 53.7,
                  "portmasque (%)": 17,
                  "portmasque_inf (%)": 10.9,
                  "portmasque_sup (%)": 25.4,
                  "_deepnote_index_column": 19
                },
                {
                  "region": "Nouvelle-Aquitaine",
                  "date": "14/04",
                  "anxiete (%)": 18.1,
                  "anxiete_inf (%)": 13.3,
                  "anxiete_sup (%)": 24.1,
                  "depression (%)": 18.4,
                  "depression_inf (%)": 13.6,
                  "depression_sup (%)": 24.4,
                  "pbsommeil (%)": 67.6,
                  "pbsommeil_inf (%)": 60.8,
                  "pbsommeil_sup (%)": 73.8,
                  "hyg4mes (%)": 45.8,
                  "hyg4mes_inf (%)": 38.9,
                  "hyg4mes_sup (%)": 52.8,
                  "portmasque (%)": 28.3,
                  "portmasque_inf (%)": 22.4,
                  "portmasque_sup (%)": 35,
                  "_deepnote_index_column": 20
                },
                {
                  "region": "Occitanie",
                  "date": "14/04",
                  "anxiete (%)": 17,
                  "anxiete_inf (%)": 12,
                  "anxiete_sup (%)": 23.5,
                  "depression (%)": 18.9,
                  "depression_inf (%)": 13.5,
                  "depression_sup (%)": 25.8,
                  "pbsommeil (%)": 57.1,
                  "pbsommeil_inf (%)": 49.5,
                  "pbsommeil_sup (%)": 64.4,
                  "hyg4mes (%)": 54.7,
                  "hyg4mes_inf (%)": 47.1,
                  "hyg4mes_sup (%)": 62.1,
                  "portmasque (%)": 28.6,
                  "portmasque_inf (%)": 22.2,
                  "portmasque_sup (%)": 35.9,
                  "_deepnote_index_column": 21
                },
                {
                  "region": "Auvergne-Rhône-Alpes",
                  "date": "14/04",
                  "anxiete (%)": 15.8,
                  "anxiete_inf (%)": 11.8,
                  "anxiete_sup (%)": 20.8,
                  "depression (%)": 11.9,
                  "depression_inf (%)": 8.4,
                  "depression_sup (%)": 16.5,
                  "pbsommeil (%)": 59.5,
                  "pbsommeil_inf (%)": 53.4,
                  "pbsommeil_sup (%)": 65.4,
                  "hyg4mes (%)": 41.4,
                  "hyg4mes_inf (%)": 35.5,
                  "hyg4mes_sup (%)": 47.5,
                  "portmasque (%)": 24,
                  "portmasque_inf (%)": 19.2,
                  "portmasque_sup (%)": 29.7,
                  "_deepnote_index_column": 22
                },
                {
                  "region": "Provence-Alpes-Côte d'Azur",
                  "date": "14/04",
                  "anxiete (%)": 15.2,
                  "anxiete_inf (%)": 10.4,
                  "anxiete_sup (%)": 21.7,
                  "depression (%)": 15.1,
                  "depression_inf (%)": 10.3,
                  "depression_sup (%)": 21.5,
                  "pbsommeil (%)": 62.6,
                  "pbsommeil_inf (%)": 54.9,
                  "pbsommeil_sup (%)": 69.8,
                  "hyg4mes (%)": 55.9,
                  "hyg4mes_inf (%)": 48.1,
                  "hyg4mes_sup (%)": 63.4,
                  "portmasque (%)": 25.3,
                  "portmasque_inf (%)": 19.2,
                  "portmasque_sup (%)": 32.6,
                  "_deepnote_index_column": 23
                },
                {
                  "region": "Île-de-France",
                  "date": "20/04",
                  "anxiete (%)": 16.7,
                  "anxiete_inf (%)": 13.1,
                  "anxiete_sup (%)": 21,
                  "depression (%)": 19.2,
                  "depression_inf (%)": 15.4,
                  "depression_sup (%)": 23.6,
                  "pbsommeil (%)": 64.6,
                  "pbsommeil_inf (%)": 64.6,
                  "pbsommeil_sup (%)": 69.4,
                  "hyg4mes (%)": 44,
                  "hyg4mes_inf (%)": 38.9,
                  "hyg4mes_sup (%)": 49.2,
                  "portmasque (%)": 30.9,
                  "portmasque_inf (%)": 26.3,
                  "portmasque_sup (%)": 35.9,
                  "_deepnote_index_column": 24
                },
                {
                  "region": "Centre-Val de Loire",
                  "date": "20/04",
                  "anxiete (%)": 16.1,
                  "anxiete_inf (%)": 9.6,
                  "anxiete_sup (%)": 25.8,
                  "depression (%)": 23.5,
                  "depression_inf (%)": 15.6,
                  "depression_sup (%)": 33.8,
                  "pbsommeil (%)": 71.4,
                  "pbsommeil_inf (%)": 71.4,
                  "pbsommeil_sup (%)": 80.1,
                  "hyg4mes (%)": 47.3,
                  "hyg4mes_inf (%)": 36.8,
                  "hyg4mes_sup (%)": 58,
                  "portmasque (%)": 25.7,
                  "portmasque_inf (%)": 17.5,
                  "portmasque_sup (%)": 36.1,
                  "_deepnote_index_column": 25
                },
                {
                  "region": "Bourgogne-Franche-Comté",
                  "date": "20/04",
                  "anxiete (%)": 18.9,
                  "anxiete_inf (%)": 12.2,
                  "anxiete_sup (%)": 28,
                  "depression (%)": 21.8,
                  "depression_inf (%)": 14.5,
                  "depression_sup (%)": 31.2,
                  "pbsommeil (%)": 65.3,
                  "pbsommeil_inf (%)": 65.3,
                  "pbsommeil_sup (%)": 74.2,
                  "hyg4mes (%)": 46,
                  "hyg4mes_inf (%)": 36.2,
                  "hyg4mes_sup (%)": 56,
                  "portmasque (%)": 19.7,
                  "portmasque_inf (%)": 12.8,
                  "portmasque_sup (%)": 28.9,
                  "_deepnote_index_column": 26
                },
                {
                  "region": "Normandie",
                  "date": "20/04",
                  "anxiete (%)": 14.9,
                  "anxiete_inf (%)": 9.1,
                  "anxiete_sup (%)": 23.4,
                  "depression (%)": 18.4,
                  "depression_inf (%)": 11.8,
                  "depression_sup (%)": 27.4,
                  "pbsommeil (%)": 66.7,
                  "pbsommeil_inf (%)": 66.7,
                  "pbsommeil_sup (%)": 75.2,
                  "hyg4mes (%)": 45.3,
                  "hyg4mes_inf (%)": 35.8,
                  "hyg4mes_sup (%)": 55.2,
                  "portmasque (%)": 29,
                  "portmasque_inf (%)": 21,
                  "portmasque_sup (%)": 38.5,
                  "_deepnote_index_column": 27
                },
                {
                  "region": "Hauts-de-France",
                  "date": "20/04",
                  "anxiete (%)": 24.9,
                  "anxiete_inf (%)": 19.2,
                  "anxiete_sup (%)": 31.7,
                  "depression (%)": 18.8,
                  "depression_inf (%)": 13.8,
                  "depression_sup (%)": 15,
                  "pbsommeil (%)": 72,
                  "pbsommeil_inf (%)": 72,
                  "pbsommeil_sup (%)": 78,
                  "hyg4mes (%)": 50.1,
                  "hyg4mes_inf (%)": 42.9,
                  "hyg4mes_sup (%)": 57.3,
                  "portmasque (%)": 25.8,
                  "portmasque_inf (%)": 20,
                  "portmasque_sup (%)": 32.7,
                  "_deepnote_index_column": 28
                }
              ],
              "rows_bottom": [
                {
                  "region": "Bretagne",
                  "date": "24/08",
                  "anxiete (%)": 13.8,
                  "anxiete_inf (%)": 8.2,
                  "anxiete_sup (%)": 22.4,
                  "depression (%)": 13.8,
                  "depression_inf (%)": 8.4,
                  "depression_sup (%)": 21.8,
                  "pbsommeil (%)": 64.8,
                  "pbsommeil_inf (%)": 55.7,
                  "pbsommeil_sup (%)": 73.4,
                  "hyg4mes (%)": 35.3,
                  "hyg4mes_inf (%)": 26.7,
                  "hyg4mes_sup (%)": 44.9,
                  "portmasque (%)": 65.7,
                  "portmasque_inf (%)": 55.7,
                  "portmasque_sup (%)": 74.5,
                  "_deepnote_index_column": 151
                },
                {
                  "region": "Nouvelle-Aquitaine",
                  "date": "24/08",
                  "anxiete (%)": 16.8,
                  "anxiete_inf (%)": 11.9,
                  "anxiete_sup (%)": 23.1,
                  "depression (%)": 8.9,
                  "depression_inf (%)": 5.5,
                  "depression_sup (%)": 13.9,
                  "pbsommeil (%)": 62.6,
                  "pbsommeil_inf (%)": 55.7,
                  "pbsommeil_sup (%)": 69.6,
                  "hyg4mes (%)": 29.4,
                  "hyg4mes_inf (%)": 22.9,
                  "hyg4mes_sup (%)": 36.8,
                  "portmasque (%)": 70.3,
                  "portmasque_inf (%)": 63.1,
                  "portmasque_sup (%)": 76.6,
                  "_deepnote_index_column": 152
                },
                {
                  "region": "Occitanie",
                  "date": "24/08",
                  "anxiete (%)": 17.4,
                  "anxiete_inf (%)": 12.3,
                  "anxiete_sup (%)": 24.2,
                  "depression (%)": 11.4,
                  "depression_inf (%)": 7.4,
                  "depression_sup (%)": 17.1,
                  "pbsommeil (%)": 58.2,
                  "pbsommeil_inf (%)": 50.5,
                  "pbsommeil_sup (%)": 65.5,
                  "hyg4mes (%)": 24.8,
                  "hyg4mes_inf (%)": 18.8,
                  "hyg4mes_sup (%)": 32,
                  "portmasque (%)": 63.2,
                  "portmasque_inf (%)": 55.5,
                  "portmasque_sup (%)": 70.2,
                  "_deepnote_index_column": 153
                },
                {
                  "region": "Auvergne-Rhône-Alpes",
                  "date": "24/08",
                  "anxiete (%)": 14.7,
                  "anxiete_inf (%)": 10.3,
                  "anxiete_sup (%)": 30.4,
                  "depression (%)": 9.4,
                  "depression_inf (%)": 6.2,
                  "depression_sup (%)": 13.9,
                  "pbsommeil (%)": 66.1,
                  "pbsommeil_inf (%)": 59.5,
                  "pbsommeil_sup (%)": 72.2,
                  "hyg4mes (%)": 31.2,
                  "hyg4mes_inf (%)": 25.2,
                  "hyg4mes_sup (%)": 37.9,
                  "portmasque (%)": 65.8,
                  "portmasque_inf (%)": 58.9,
                  "portmasque_sup (%)": 72,
                  "_deepnote_index_column": 154
                },
                {
                  "region": "Provence-Alpes-Côte d'Azur",
                  "date": "24/08",
                  "anxiete (%)": 14.9,
                  "anxiete_inf (%)": 10.2,
                  "anxiete_sup (%)": 21.2,
                  "depression (%)": 8.7,
                  "depression_inf (%)": 5.3,
                  "depression_sup (%)": 13.8,
                  "pbsommeil (%)": 57.3,
                  "pbsommeil_inf (%)": 49.6,
                  "pbsommeil_sup (%)": 64.6,
                  "hyg4mes (%)": 29.8,
                  "hyg4mes_inf (%)": 23.5,
                  "hyg4mes_sup (%)": 37,
                  "portmasque (%)": 61.1,
                  "portmasque_inf (%)": 53.4,
                  "portmasque_sup (%)": 68.3,
                  "_deepnote_index_column": 155
                },
                {
                  "region": "Île-de-France",
                  "date": "21/09",
                  "anxiete (%)": 18.4,
                  "anxiete_inf (%)": 14.5,
                  "anxiete_sup (%)": 23.1,
                  "depression (%)": 13,
                  "depression_inf (%)": 9.6,
                  "depression_sup (%)": 17.3,
                  "pbsommeil (%)": 64.3,
                  "pbsommeil_inf (%)": 59,
                  "pbsommeil_sup (%)": 69.4,
                  "hyg4mes (%)": 32.2,
                  "hyg4mes_inf (%)": 27.3,
                  "hyg4mes_sup (%)": 37.4,
                  "portmasque (%)": 80.7,
                  "portmasque_inf (%)": 75.9,
                  "portmasque_sup (%)": 84.7,
                  "_deepnote_index_column": 156
                },
                {
                  "region": "Centre-Val de Loire",
                  "date": "21/09",
                  "anxiete (%)": 18.2,
                  "anxiete_inf (%)": 11.5,
                  "anxiete_sup (%)": 27.7,
                  "depression (%)": 10.5,
                  "depression_inf (%)": 5.6,
                  "depression_sup (%)": 18.6,
                  "pbsommeil (%)": 69.3,
                  "pbsommeil_inf (%)": 58.5,
                  "pbsommeil_sup (%)": 78.3,
                  "hyg4mes (%)": 32.8,
                  "hyg4mes_inf (%)": 23.7,
                  "hyg4mes_sup (%)": 43.5,
                  "portmasque (%)": 82.7,
                  "portmasque_inf (%)": 73,
                  "portmasque_sup (%)": 89.4,
                  "_deepnote_index_column": 157
                },
                {
                  "region": "Bourgogne-Franche-Comté",
                  "date": "21/09",
                  "anxiete (%)": 18.8,
                  "anxiete_inf (%)": 12.1,
                  "anxiete_sup (%)": 27.9,
                  "depression (%)": 8.2,
                  "depression_inf (%)": 4.3,
                  "depression_sup (%)": 15.1,
                  "pbsommeil (%)": 61,
                  "pbsommeil_inf (%)": 50.3,
                  "pbsommeil_sup (%)": 70.8,
                  "hyg4mes (%)": 37.5,
                  "hyg4mes_inf (%)": 27.7,
                  "hyg4mes_sup (%)": 48.4,
                  "portmasque (%)": 69.3,
                  "portmasque_inf (%)": 58.6,
                  "portmasque_sup (%)": 78.3,
                  "_deepnote_index_column": 158
                },
                {
                  "region": "Normandie",
                  "date": "21/09",
                  "anxiete (%)": 18.1,
                  "anxiete_inf (%)": 11.6,
                  "anxiete_sup (%)": 27.1,
                  "depression (%)": 15.6,
                  "depression_inf (%)": 9.3,
                  "depression_sup (%)": 25,
                  "pbsommeil (%)": 63,
                  "pbsommeil_inf (%)": 53,
                  "pbsommeil_sup (%)": 71.9,
                  "hyg4mes (%)": 24.5,
                  "hyg4mes_inf (%)": 17.1,
                  "hyg4mes_sup (%)": 33.8,
                  "portmasque (%)": 66.5,
                  "portmasque_inf (%)": 56.4,
                  "portmasque_sup (%)": 75.3,
                  "_deepnote_index_column": 159
                },
                {
                  "region": "Hauts-de-France",
                  "date": "21/09",
                  "anxiete (%)": 22.4,
                  "anxiete_inf (%)": 16.8,
                  "anxiete_sup (%)": 29.2,
                  "depression (%)": 7.6,
                  "depression_inf (%)": 4.4,
                  "depression_sup (%)": 12.6,
                  "pbsommeil (%)": 75.5,
                  "pbsommeil_inf (%)": 68.9,
                  "pbsommeil_sup (%)": 81,
                  "hyg4mes (%)": 34.3,
                  "hyg4mes_inf (%)": 27.6,
                  "hyg4mes_sup (%)": 41.7,
                  "portmasque (%)": 75.2,
                  "portmasque_inf (%)": 68.3,
                  "portmasque_sup (%)": 81,
                  "_deepnote_index_column": 160
                },
                {
                  "region": "Grand-Est",
                  "date": "21/09",
                  "anxiete (%)": 15,
                  "anxiete_inf (%)": 10.3,
                  "anxiete_sup (%)": 21.4,
                  "depression (%)": 10.8,
                  "depression_inf (%)": 6.9,
                  "depression_sup (%)": 16.3,
                  "pbsommeil (%)": 66.3,
                  "pbsommeil_inf (%)": 58.7,
                  "pbsommeil_sup (%)": 73.2,
                  "hyg4mes (%)": 36,
                  "hyg4mes_inf (%)": 28.9,
                  "hyg4mes_sup (%)": 43.7,
                  "portmasque (%)": 74.7,
                  "portmasque_inf (%)": 67.4,
                  "portmasque_sup (%)": 80.9,
                  "_deepnote_index_column": 161
                },
                {
                  "region": "Pays de la Loire",
                  "date": "21/09",
                  "anxiete (%)": 23.7,
                  "anxiete_inf (%)": 16.4,
                  "anxiete_sup (%)": 33,
                  "depression (%)": 13.3,
                  "depression_inf (%)": 8.3,
                  "depression_sup (%)": 20.7,
                  "pbsommeil (%)": 68,
                  "pbsommeil_inf (%)": 59.2,
                  "pbsommeil_sup (%)": 75.7,
                  "hyg4mes (%)": 22.9,
                  "hyg4mes_inf (%)": 16,
                  "hyg4mes_sup (%)": 31.7,
                  "portmasque (%)": 69.7,
                  "portmasque_inf (%)": 60.9,
                  "portmasque_sup (%)": 77.3,
                  "_deepnote_index_column": 162
                },
                {
                  "region": "Bretagne",
                  "date": "21/09",
                  "anxiete (%)": 16.9,
                  "anxiete_inf (%)": 11,
                  "anxiete_sup (%)": 25.3,
                  "depression (%)": 10.5,
                  "depression_inf (%)": 6.2,
                  "depression_sup (%)": 17.4,
                  "pbsommeil (%)": 67.4,
                  "pbsommeil_inf (%)": 58.2,
                  "pbsommeil_sup (%)": 75.5,
                  "hyg4mes (%)": 42.7,
                  "hyg4mes_inf (%)": 33.7,
                  "hyg4mes_sup (%)": 52.2,
                  "portmasque (%)": 76.3,
                  "portmasque_inf (%)": 67.1,
                  "portmasque_sup (%)": 83.6,
                  "_deepnote_index_column": 163
                },
                {
                  "region": "Nouvelle-Aquitaine",
                  "date": "21/09",
                  "anxiete (%)": 18.9,
                  "anxiete_inf (%)": 13.6,
                  "anxiete_sup (%)": 25.7,
                  "depression (%)": 10.4,
                  "depression_inf (%)": 6.4,
                  "depression_sup (%)": 16.3,
                  "pbsommeil (%)": 69.5,
                  "pbsommeil_inf (%)": 62.1,
                  "pbsommeil_sup (%)": 76,
                  "hyg4mes (%)": 29.9,
                  "hyg4mes_inf (%)": 23.6,
                  "hyg4mes_sup (%)": 37.1,
                  "portmasque (%)": 74.7,
                  "portmasque_inf (%)": 67.2,
                  "portmasque_sup (%)": 80.9,
                  "_deepnote_index_column": 164
                },
                {
                  "region": "Occitanie",
                  "date": "21/09",
                  "anxiete (%)": 22.5,
                  "anxiete_inf (%)": 16.8,
                  "anxiete_sup (%)": 29.3,
                  "depression (%)": 13.7,
                  "depression_inf (%)": 9.3,
                  "depression_sup (%)": 19.7,
                  "pbsommeil (%)": 64,
                  "pbsommeil_inf (%)": 56.9,
                  "pbsommeil_sup (%)": 70.6,
                  "hyg4mes (%)": 35,
                  "hyg4mes_inf (%)": 28.5,
                  "hyg4mes_sup (%)": 42.2,
                  "portmasque (%)": 68.4,
                  "portmasque_inf (%)": 61.4,
                  "portmasque_sup (%)": 74.7,
                  "_deepnote_index_column": 165
                },
                {
                  "region": "Auvergne-Rhône-Alpes",
                  "date": "21/09",
                  "anxiete (%)": 14.2,
                  "anxiete_inf (%)": 10.2,
                  "anxiete_sup (%)": 19.5,
                  "depression (%)": 8.5,
                  "depression_inf (%)": 5.6,
                  "depression_sup (%)": 12.7,
                  "pbsommeil (%)": 61,
                  "pbsommeil_inf (%)": 54.6,
                  "pbsommeil_sup (%)": 67.1,
                  "hyg4mes (%)": 32.2,
                  "hyg4mes_inf (%)": 26.5,
                  "hyg4mes_sup (%)": 38.5,
                  "portmasque (%)": 72.8,
                  "portmasque_inf (%)": 66.5,
                  "portmasque_sup (%)": 78.3,
                  "_deepnote_index_column": 166
                },
                {
                  "region": "Provence-Alpes-Côte d'Azur",
                  "date": "21/09",
                  "anxiete (%)": 11,
                  "anxiete_inf (%)": 6.8,
                  "anxiete_sup (%)": 17.4,
                  "depression (%)": 8.8,
                  "depression_inf (%)": 5.2,
                  "depression_sup (%)": 14.5,
                  "pbsommeil (%)": 62.7,
                  "pbsommeil_inf (%)": 54.7,
                  "pbsommeil_sup (%)": 70.1,
                  "hyg4mes (%)": 28.2,
                  "hyg4mes_inf (%)": 21.6,
                  "hyg4mes_sup (%)": 36,
                  "portmasque (%)": 66.8,
                  "portmasque_inf (%)": 58.7,
                  "portmasque_sup (%)": 74,
                  "_deepnote_index_column": 167
                },
                {
                  "region": "Île-de-France",
                  "date": "19/10",
                  "anxiete (%)": 16.9,
                  "anxiete_inf (%)": 13.3,
                  "anxiete_sup (%)": 21.3,
                  "depression (%)": 20.2,
                  "depression_inf (%)": 16.2,
                  "depression_sup (%)": 24.8,
                  "pbsommeil (%)": 65.3,
                  "pbsommeil_inf (%)": 60.2,
                  "pbsommeil_sup (%)": 70.1,
                  "hyg4mes (%)": 35.4,
                  "hyg4mes_inf (%)": 30.6,
                  "hyg4mes_sup (%)": 40.6,
                  "portmasque (%)": 80.2,
                  "portmasque_inf (%)": 75.7,
                  "portmasque_sup (%)": 84,
                  "_deepnote_index_column": 168
                },
                {
                  "region": "Centre-Val de Loire",
                  "date": "19/10",
                  "anxiete (%)": 13.2,
                  "anxiete_inf (%)": 7.4,
                  "anxiete_sup (%)": 22.6,
                  "depression (%)": 12.3,
                  "depression_inf (%)": 6.6,
                  "depression_sup (%)": 21.8,
                  "pbsommeil (%)": 63.2,
                  "pbsommeil_inf (%)": 52.3,
                  "pbsommeil_sup (%)": 72.9,
                  "hyg4mes (%)": 41.3,
                  "hyg4mes_inf (%)": 31.2,
                  "hyg4mes_sup (%)": 52.2,
                  "portmasque (%)": 79.5,
                  "portmasque_inf (%)": 69.7,
                  "portmasque_sup (%)": 86.8,
                  "_deepnote_index_column": 169
                },
                {
                  "region": "Bourgogne-Franche-Comté",
                  "date": "19/10",
                  "anxiete (%)": 15.3,
                  "anxiete_inf (%)": 9.3,
                  "anxiete_sup (%)": 23.9,
                  "depression (%)": 10.9,
                  "depression_inf (%)": 6.1,
                  "depression_sup (%)": 18.7,
                  "pbsommeil (%)": 63.7,
                  "pbsommeil_inf (%)": 53.2,
                  "pbsommeil_sup (%)": 73,
                  "hyg4mes (%)": 34.9,
                  "hyg4mes_inf (%)": 25.7,
                  "hyg4mes_sup (%)": 45.3,
                  "portmasque (%)": 74.7,
                  "portmasque_inf (%)": 64.7,
                  "portmasque_sup (%)": 82.7,
                  "_deepnote_index_column": 170
                },
                {
                  "region": "Normandie",
                  "date": "19/10",
                  "anxiete (%)": 23.3,
                  "anxiete_inf (%)": 16.2,
                  "anxiete_sup (%)": 32.3,
                  "depression (%)": 16.7,
                  "depression_inf (%)": 10.6,
                  "depression_sup (%)": 25.3,
                  "pbsommeil (%)": 64.9,
                  "pbsommeil_inf (%)": 55.4,
                  "pbsommeil_sup (%)": 73.4,
                  "hyg4mes (%)": 35.1,
                  "hyg4mes_inf (%)": 26.6,
                  "hyg4mes_sup (%)": 44.6,
                  "portmasque (%)": 79.4,
                  "portmasque_inf (%)": 70.6,
                  "portmasque_sup (%)": 86.2,
                  "_deepnote_index_column": 171
                },
                {
                  "region": "Hauts-de-France",
                  "date": "19/10",
                  "anxiete (%)": 23.3,
                  "anxiete_inf (%)": 17.8,
                  "anxiete_sup (%)": 29.9,
                  "depression (%)": 18.9,
                  "depression_inf (%)": 13.9,
                  "depression_sup (%)": 25.2,
                  "pbsommeil (%)": 61.3,
                  "pbsommeil_inf (%)": 53.9,
                  "pbsommeil_sup (%)": 68.2,
                  "hyg4mes (%)": 35,
                  "hyg4mes_inf (%)": 28.4,
                  "hyg4mes_sup (%)": 42.2,
                  "portmasque (%)": 83.7,
                  "portmasque_inf (%)": 77.7,
                  "portmasque_sup (%)": 88.3,
                  "_deepnote_index_column": 172
                },
                {
                  "region": "Grand-Est",
                  "date": "19/10",
                  "anxiete (%)": 20.9,
                  "anxiete_inf (%)": 15.4,
                  "anxiete_sup (%)": 27.6,
                  "depression (%)": 14,
                  "depression_inf (%)": 9.6,
                  "depression_sup (%)": 20.1,
                  "pbsommeil (%)": 62,
                  "pbsommeil_inf (%)": 54.4,
                  "pbsommeil_sup (%)": 69.1,
                  "hyg4mes (%)": 40.2,
                  "hyg4mes_inf (%)": 33.1,
                  "hyg4mes_sup (%)": 47.8,
                  "portmasque (%)": 78,
                  "portmasque_inf (%)": 71,
                  "portmasque_sup (%)": 83.7,
                  "_deepnote_index_column": 173
                },
                {
                  "region": "Pays de la Loire",
                  "date": "19/10",
                  "anxiete (%)": 16.4,
                  "anxiete_inf (%)": 10.7,
                  "anxiete_sup (%)": 24.2,
                  "depression (%)": 8.2,
                  "depression_inf (%)": 4.4,
                  "depression_sup (%)": 14.6,
                  "pbsommeil (%)": 64.8,
                  "pbsommeil_inf (%)": 55.6,
                  "pbsommeil_sup (%)": 73,
                  "hyg4mes (%)": 33.9,
                  "hyg4mes_inf (%)": 25.8,
                  "hyg4mes_sup (%)": 43,
                  "portmasque (%)": 76.7,
                  "portmasque_inf (%)": 67.8,
                  "portmasque_sup (%)": 83.7,
                  "_deepnote_index_column": 174
                },
                {
                  "region": "Bretagne",
                  "date": "19/10",
                  "anxiete (%)": 21.5,
                  "anxiete_inf (%)": 14.8,
                  "anxiete_sup (%)": 30.2,
                  "depression (%)": 17.1,
                  "depression_inf (%)": 11.2,
                  "depression_sup (%)": 25.2,
                  "pbsommeil (%)": 57.1,
                  "pbsommeil_inf (%)": 47.5,
                  "pbsommeil_sup (%)": 66.3,
                  "hyg4mes (%)": 36.4,
                  "hyg4mes_inf (%)": 27.7,
                  "hyg4mes_sup (%)": 46,
                  "portmasque (%)": 81.6,
                  "portmasque_inf (%)": 73.1,
                  "portmasque_sup (%)": 87.9,
                  "_deepnote_index_column": 175
                },
                {
                  "region": "Nouvelle-Aquitaine",
                  "date": "19/10",
                  "anxiete (%)": 14.5,
                  "anxiete_inf (%)": 10.1,
                  "anxiete_sup (%)": 20.3,
                  "depression (%)": 13.8,
                  "depression_inf (%)": 9.6,
                  "depression_sup (%)": 19.6,
                  "pbsommeil (%)": 64,
                  "pbsommeil_inf (%)": 56.7,
                  "pbsommeil_sup (%)": 70.7,
                  "hyg4mes (%)": 40.1,
                  "hyg4mes_inf (%)": 33.2,
                  "hyg4mes_sup (%)": 47.4,
                  "portmasque (%)": 78.1,
                  "portmasque_inf (%)": 71.4,
                  "portmasque_sup (%)": 83.5,
                  "_deepnote_index_column": 176
                },
                {
                  "region": "Occitanie",
                  "date": "19/10",
                  "anxiete (%)": 22,
                  "anxiete_inf (%)": 16.5,
                  "anxiete_sup (%)": 28.7,
                  "depression (%)": 18.5,
                  "depression_inf (%)": 13.4,
                  "depression_sup (%)": 24.9,
                  "pbsommeil (%)": 66.2,
                  "pbsommeil_inf (%)": 59.7,
                  "pbsommeil_sup (%)": 72.7,
                  "hyg4mes (%)": 31.1,
                  "hyg4mes_inf (%)": 24.9,
                  "hyg4mes_sup (%)": 38.1,
                  "portmasque (%)": 74.4,
                  "portmasque_inf (%)": 67.5,
                  "portmasque_sup (%)": 80.3,
                  "_deepnote_index_column": 177
                },
                {
                  "region": "Auvergne-Rhône-Alpes",
                  "date": "19/10",
                  "anxiete (%)": 20.1,
                  "anxiete_inf (%)": 15.4,
                  "anxiete_sup (%)": 25.8,
                  "depression (%)": 13.3,
                  "depression_inf (%)": 9.5,
                  "depression_sup (%)": 18.3,
                  "pbsommeil (%)": 68.8,
                  "pbsommeil_inf (%)": 62.5,
                  "pbsommeil_sup (%)": 74.5,
                  "hyg4mes (%)": 40.7,
                  "hyg4mes_inf (%)": 34.6,
                  "hyg4mes_sup (%)": 47.1,
                  "portmasque (%)": 82,
                  "portmasque_inf (%)": 76.5,
                  "portmasque_sup (%)": 86.4,
                  "_deepnote_index_column": 178
                },
                {
                  "region": "Provence-Alpes-Côte d'Azur",
                  "date": "19/10",
                  "anxiete (%)": 20.6,
                  "anxiete_inf (%)": 14.7,
                  "anxiete_sup (%)": 28.1,
                  "depression (%)": 12.3,
                  "depression_inf (%)": 7.9,
                  "depression_sup (%)": 18.8,
                  "pbsommeil (%)": 66.2,
                  "pbsommeil_inf (%)": 58,
                  "pbsommeil_sup (%)": 73.5,
                  "hyg4mes (%)": 42.1,
                  "hyg4mes_inf (%)": 34.2,
                  "hyg4mes_sup (%)": 50.4,
                  "portmasque (%)": 73.9,
                  "portmasque_inf (%)": 65.9,
                  "portmasque_sup (%)": 80.6,
                  "_deepnote_index_column": 179
                }
              ]
            },
            "text/plain": "                         region   date  anxiete (%)  anxiete_inf (%)  \\\n0                 Île-de-France  30/03         19.4             15.6   \n1           Centre-Val de Loire  30/03         22.4             14.4   \n2       Bourgogne-Franche-Comté  30/03         17.6             10.9   \n3                     Normandie  30/03         22.8             15.7   \n4               Hauts-de-France  30/03         22.6             17.2   \n..                          ...    ...          ...              ...   \n175                    Bretagne  19/10         21.5             14.8   \n176          Nouvelle-Aquitaine  19/10         14.5             10.1   \n177                   Occitanie  19/10         22.0             16.5   \n178        Auvergne-Rhône-Alpes  19/10         20.1             15.4   \n179  Provence-Alpes-Côte d'Azur  19/10         20.6             14.7   \n\n     anxiete_sup (%)  depression (%)  depression_inf (%)  depression_sup (%)  \\\n0               23.9            20.6                16.7                25.1   \n1               33.2            27.7                18.8                38.8   \n2               27.3            17.8                11.1                27.2   \n3               31.8            19.0                12.6                27.7   \n4               29.1            16.4                11.8                22.3   \n..               ...             ...                 ...                 ...   \n175             30.2            17.1                11.2                25.2   \n176             20.3            13.8                 9.6                19.6   \n177             28.7            18.5                13.4                24.9   \n178             25.8            13.3                 9.5                18.3   \n179             28.1            12.3                 7.9                18.8   \n\n     pbsommeil (%)  pbsommeil_inf (%)  pbsommeil_sup (%)  hyg4mes (%)  \\\n0             63.5               58.4               68.4         44.9   \n1             61.7               50.4               71.9         52.3   \n2             55.0               44.6               65.1         55.8   \n3             60.9               51.2               69.8         44.6   \n4             64.9               57.8               71.4         48.0   \n..             ...                ...                ...          ...   \n175           57.1               47.5               66.3         36.4   \n176           64.0               56.7               70.7         40.1   \n177           66.2               59.7               72.7         31.1   \n178           68.8               62.5               74.5         40.7   \n179           66.2               58.0               73.5         42.1   \n\n     hyg4mes_inf (%)  hyg4mes_sup (%)  portmasque (%)  portmasque_inf (%)  \\\n0               39.7             50.1            16.2                12.7   \n1               41.1             63.3            11.9                 6.3   \n2               45.3             65.8            21.1                13.9   \n3               35.4             54.2             9.3                 5.0   \n4               41.0             55.1            12.5                 8.5   \n..               ...              ...             ...                 ...   \n175             27.7             46.0            81.6                73.1   \n176             33.2             47.4            78.1                71.4   \n177             24.9             38.1            74.4                67.5   \n178             34.6             47.1            82.0                76.5   \n179             34.2             50.4            73.9                65.9   \n\n     portmasque_sup (%)  \n0                  20.5  \n1                  21.5  \n2                  30.9  \n3                  16.6  \n4                  18.1  \n..                  ...  \n175                87.9  \n176                83.5  \n177                80.3  \n178                86.4  \n179                80.6  \n\n[180 rows x 17 columns]",
            "text/html": "<div>\n<style scoped>\n    .dataframe tbody tr th:only-of-type {\n        vertical-align: middle;\n    }\n\n    .dataframe tbody tr th {\n        vertical-align: top;\n    }\n\n    .dataframe thead th {\n        text-align: right;\n    }\n</style>\n<table border=\"1\" class=\"dataframe\">\n  <thead>\n    <tr style=\"text-align: right;\">\n      <th></th>\n      <th>region</th>\n      <th>date</th>\n      <th>anxiete (%)</th>\n      <th>anxiete_inf (%)</th>\n      <th>anxiete_sup (%)</th>\n      <th>depression (%)</th>\n      <th>depression_inf (%)</th>\n      <th>depression_sup (%)</th>\n      <th>pbsommeil (%)</th>\n      <th>pbsommeil_inf (%)</th>\n      <th>pbsommeil_sup (%)</th>\n      <th>hyg4mes (%)</th>\n      <th>hyg4mes_inf (%)</th>\n      <th>hyg4mes_sup (%)</th>\n      <th>portmasque (%)</th>\n      <th>portmasque_inf (%)</th>\n      <th>portmasque_sup (%)</th>\n    </tr>\n  </thead>\n  <tbody>\n    <tr>\n      <th>0</th>\n      <td>Île-de-France</td>\n      <td>30/03</td>\n      <td>19.4</td>\n      <td>15.6</td>\n      <td>23.9</td>\n      <td>20.6</td>\n      <td>16.7</td>\n      <td>25.1</td>\n      <td>63.5</td>\n      <td>58.4</td>\n      <td>68.4</td>\n      <td>44.9</td>\n      <td>39.7</td>\n      <td>50.1</td>\n      <td>16.2</td>\n      <td>12.7</td>\n      <td>20.5</td>\n    </tr>\n    <tr>\n      <th>1</th>\n      <td>Centre-Val de Loire</td>\n      <td>30/03</td>\n      <td>22.4</td>\n      <td>14.4</td>\n      <td>33.2</td>\n      <td>27.7</td>\n      <td>18.8</td>\n      <td>38.8</td>\n      <td>61.7</td>\n      <td>50.4</td>\n      <td>71.9</td>\n      <td>52.3</td>\n      <td>41.1</td>\n      <td>63.3</td>\n      <td>11.9</td>\n      <td>6.3</td>\n      <td>21.5</td>\n    </tr>\n    <tr>\n      <th>2</th>\n      <td>Bourgogne-Franche-Comté</td>\n      <td>30/03</td>\n      <td>17.6</td>\n      <td>10.9</td>\n      <td>27.3</td>\n      <td>17.8</td>\n      <td>11.1</td>\n      <td>27.2</td>\n      <td>55.0</td>\n      <td>44.6</td>\n      <td>65.1</td>\n      <td>55.8</td>\n      <td>45.3</td>\n      <td>65.8</td>\n      <td>21.1</td>\n      <td>13.9</td>\n      <td>30.9</td>\n    </tr>\n    <tr>\n      <th>3</th>\n      <td>Normandie</td>\n      <td>30/03</td>\n      <td>22.8</td>\n      <td>15.7</td>\n      <td>31.8</td>\n      <td>19.0</td>\n      <td>12.6</td>\n      <td>27.7</td>\n      <td>60.9</td>\n      <td>51.2</td>\n      <td>69.8</td>\n      <td>44.6</td>\n      <td>35.4</td>\n      <td>54.2</td>\n      <td>9.3</td>\n      <td>5.0</td>\n      <td>16.6</td>\n    </tr>\n    <tr>\n      <th>4</th>\n      <td>Hauts-de-France</td>\n      <td>30/03</td>\n      <td>22.6</td>\n      <td>17.2</td>\n      <td>29.1</td>\n      <td>16.4</td>\n      <td>11.8</td>\n      <td>22.3</td>\n      <td>64.9</td>\n      <td>57.8</td>\n      <td>71.4</td>\n      <td>48.0</td>\n      <td>41.0</td>\n      <td>55.1</td>\n      <td>12.5</td>\n      <td>8.5</td>\n      <td>18.1</td>\n    </tr>\n    <tr>\n      <th>...</th>\n      <td>...</td>\n      <td>...</td>\n      <td>...</td>\n      <td>...</td>\n      <td>...</td>\n      <td>...</td>\n      <td>...</td>\n      <td>...</td>\n      <td>...</td>\n      <td>...</td>\n      <td>...</td>\n      <td>...</td>\n      <td>...</td>\n      <td>...</td>\n      <td>...</td>\n      <td>...</td>\n      <td>...</td>\n    </tr>\n    <tr>\n      <th>175</th>\n      <td>Bretagne</td>\n      <td>19/10</td>\n      <td>21.5</td>\n      <td>14.8</td>\n      <td>30.2</td>\n      <td>17.1</td>\n      <td>11.2</td>\n      <td>25.2</td>\n      <td>57.1</td>\n      <td>47.5</td>\n      <td>66.3</td>\n      <td>36.4</td>\n      <td>27.7</td>\n      <td>46.0</td>\n      <td>81.6</td>\n      <td>73.1</td>\n      <td>87.9</td>\n    </tr>\n    <tr>\n      <th>176</th>\n      <td>Nouvelle-Aquitaine</td>\n      <td>19/10</td>\n      <td>14.5</td>\n      <td>10.1</td>\n      <td>20.3</td>\n      <td>13.8</td>\n      <td>9.6</td>\n      <td>19.6</td>\n      <td>64.0</td>\n      <td>56.7</td>\n      <td>70.7</td>\n      <td>40.1</td>\n      <td>33.2</td>\n      <td>47.4</td>\n      <td>78.1</td>\n      <td>71.4</td>\n      <td>83.5</td>\n    </tr>\n    <tr>\n      <th>177</th>\n      <td>Occitanie</td>\n      <td>19/10</td>\n      <td>22.0</td>\n      <td>16.5</td>\n      <td>28.7</td>\n      <td>18.5</td>\n      <td>13.4</td>\n      <td>24.9</td>\n      <td>66.2</td>\n      <td>59.7</td>\n      <td>72.7</td>\n      <td>31.1</td>\n      <td>24.9</td>\n      <td>38.1</td>\n      <td>74.4</td>\n      <td>67.5</td>\n      <td>80.3</td>\n    </tr>\n    <tr>\n      <th>178</th>\n      <td>Auvergne-Rhône-Alpes</td>\n      <td>19/10</td>\n      <td>20.1</td>\n      <td>15.4</td>\n      <td>25.8</td>\n      <td>13.3</td>\n      <td>9.5</td>\n      <td>18.3</td>\n      <td>68.8</td>\n      <td>62.5</td>\n      <td>74.5</td>\n      <td>40.7</td>\n      <td>34.6</td>\n      <td>47.1</td>\n      <td>82.0</td>\n      <td>76.5</td>\n      <td>86.4</td>\n    </tr>\n    <tr>\n      <th>179</th>\n      <td>Provence-Alpes-Côte d'Azur</td>\n      <td>19/10</td>\n      <td>20.6</td>\n      <td>14.7</td>\n      <td>28.1</td>\n      <td>12.3</td>\n      <td>7.9</td>\n      <td>18.8</td>\n      <td>66.2</td>\n      <td>58.0</td>\n      <td>73.5</td>\n      <td>42.1</td>\n      <td>34.2</td>\n      <td>50.4</td>\n      <td>73.9</td>\n      <td>65.9</td>\n      <td>80.6</td>\n    </tr>\n  </tbody>\n</table>\n<p>180 rows × 17 columns</p>\n</div>"
          },
          "metadata": {}
        }
      ],
      "execution_count": null
    },
    {
      "cell_type": "markdown",
      "source": "# Load columns description\n- Remove useless columns\n- Remove useless rows\n- Add missing rows",
      "metadata": {
        "tags": [],
        "cell_id": "00004-f876431b-15db-48cb-8274-4bb0c823ac59",
        "deepnote_cell_type": "markdown"
      }
    },
    {
      "cell_type": "code",
      "source": "# Load columns descriptions\ncolumns_description = pd.read_csv('metadata-coviprev.csv', sep=';')\n\n\n# Remove descriptiosn for columns we do not use and some useless informations\nvalues_to_drop = ['Reg', 'nbmoy4mes', 'dist3mes', 'dist3mes_inf', 'dist3mes_sup', 'nbmoy7mes', 'nbmoy7mes_inf', 'nbmoy7mes_sup', 'dist1m', 'dist1m_inf', 'dist1m_sup']\nmask = columns_description['Colonne'].apply(lambda x : x not in values_to_drop)\ncolumns_description = columns_description.loc[mask].reset_index(drop=True)\ncolumns_description.drop(['Exemple', 'Type '], axis=1, inplace=True)\ncolumns_description.fillna('', inplace=True)\n\n\n# Add missing descriptions\nlines_masque = pd.DataFrame({'Colonne': ['portmasque_inf', 'portmasque_sup'], \n                    'Description_FR': ['Formule de la borne inférieure de l\\'intervalle de confiance',  'Formule de la borne supérieure de l\\'intervalle de confiance'],\n                    'Description_EN': ['Confidence interval lower bound formula', 'Confidence interval upper bound formula'],\n                    'Precisions': ['', '']})\n\nlines_keys = pd.DataFrame({'Colonne': ['region', 'date'],\n            'Description_FR' : ['région', 'date'],\n            'Description_EN': ['region', 'date'],\n            'Precisions': ['', '']})\n\ncolumns_description = pd.concat([lines_keys, columns_description, lines_masque]).reset_index(drop=True)\n\n\n# Set Index and change name for percentage columns\ncolumns_description = columns_description.set_index('Colonne')\nmapping = {n: n+' (%)' for n in columns_description.index[2:]}\ncolumns_description.rename(index=mapping, inplace=True)\n\ncolumns_description",
      "metadata": {
        "tags": [],
        "cell_id": "00005-3bffd3bc-569e-40b3-accc-5fa06e179bdd",
        "deepnote_to_be_reexecuted": false,
        "source_hash": "1f83848d",
        "execution_millis": 52,
        "execution_start": 1619194987526,
        "deepnote_cell_type": "code"
      },
      "outputs": [
        {
          "output_type": "execute_result",
          "execution_count": 152,
          "data": {
            "application/vnd.deepnote.dataframe.v2+json": {
              "row_count": 17,
              "column_count": 3,
              "columns": [
                {
                  "name": "Description_FR",
                  "dtype": "object",
                  "stats": {
                    "unique_count": 9,
                    "nan_count": 0,
                    "categories": [
                      {
                        "name": "Formule de la borne inférieure de l'intervalle de confiance",
                        "count": 5
                      },
                      {
                        "name": "Formule de la borne supérieure de l'intervalle de confiance",
                        "count": 5
                      },
                      {
                        "name": "7 others",
                        "count": 7
                      }
                    ]
                  }
                },
                {
                  "name": "Description_EN",
                  "dtype": "object",
                  "stats": {
                    "unique_count": 9,
                    "nan_count": 0,
                    "categories": [
                      {
                        "name": "Confidence interval lower bound formula",
                        "count": 5
                      },
                      {
                        "name": "Confidence interval upper bound formula",
                        "count": 5
                      },
                      {
                        "name": "7 others",
                        "count": 7
                      }
                    ]
                  }
                },
                {
                  "name": "Precisions",
                  "dtype": "object",
                  "stats": {
                    "unique_count": 6,
                    "nan_count": 0,
                    "categories": [
                      {
                        "name": "",
                        "count": 12
                      },
                      {
                        "name": "L’anxiété est mesurée par l’échelle HAD (Hospitality Anxiety and Depression scale ; score > 10).\nUn intervalle de confiance à 95% est indiqué. Les classes sont calculées avec la méthodes des quantiles.",
                        "count": 1
                      },
                      {
                        "name": "4 others",
                        "count": 4
                      }
                    ]
                  }
                },
                {
                  "name": "_deepnote_index_column",
                  "dtype": "object"
                }
              ],
              "rows_top": [
                {
                  "Description_FR": "région",
                  "Description_EN": "region",
                  "Precisions": "",
                  "_deepnote_index_column": "region"
                },
                {
                  "Description_FR": "date",
                  "Description_EN": "date",
                  "Precisions": "",
                  "_deepnote_index_column": "date"
                },
                {
                  "Description_FR": "Prévalences de l'anxiété dans le contexte de l’épidémie de Covid-19",
                  "Description_EN": "Prevalence of anxiety in the context of the Covid-19 epidemic",
                  "Precisions": "L’anxiété est mesurée par l’échelle HAD (Hospitality Anxiety and Depression scale ; score > 10).\nUn intervalle de confiance à 95% est indiqué. Les classes sont calculées avec la méthodes des quantiles.",
                  "_deepnote_index_column": "anxiete (%)"
                },
                {
                  "Description_FR": "Formule de la borne inférieure de l'intervalle de confiance",
                  "Description_EN": "Confidence interval lower bound formula",
                  "Precisions": "",
                  "_deepnote_index_column": "anxiete_inf (%)"
                },
                {
                  "Description_FR": "Formule de la borne supérieure de l'intervalle de confiance",
                  "Description_EN": "Confidence interval upper bound formula",
                  "Precisions": "",
                  "_deepnote_index_column": "anxiete_sup (%)"
                },
                {
                  "Description_FR": "Prévalences de la dépression dans le contexte de l’épidémie de Covid-19",
                  "Description_EN": "Prevalences of depression in the context of the Covid-19 epidemic",
                  "Precisions": "La dépression est mesurée par l’échelle HAD (Hospitality Anxiety and Depression scale ; score > 10).\nUn intervalle de confiance à 95% est indiqué. Les classes sont calculées avec la méthodes des quantiles.",
                  "_deepnote_index_column": "depression (%)"
                },
                {
                  "Description_FR": "Formule de la borne inférieure de l'intervalle de confiance",
                  "Description_EN": "Confidence interval lower bound formula",
                  "Precisions": "",
                  "_deepnote_index_column": "depression_inf (%)"
                },
                {
                  "Description_FR": "Formule de la borne supérieure de l'intervalle de confiance",
                  "Description_EN": "Confidence interval upper bound formula",
                  "Precisions": "",
                  "_deepnote_index_column": "depression_sup (%)"
                },
                {
                  "Description_FR": "Prévalences des problèmes de sommeil dans le contexte de l’épidémie de Covid-19",
                  "Description_EN": "Prevalence of sleep problems in the context of the Covid-19 epidemic",
                  "Precisions": "La question posée était « Diriez-vous qu’au cours des 8 derniers jours, vous avez eu des problèmes de sommeil… ? ». Les personnes ayant répondu \"un peu\" ou \"beaucoup\" à la question ont été considérées comme ayant des problèmes de sommeil.\nLes prévalences sont associées à un intervalle de confiance à 95%. Les classes sont calculées avec la méthode des quantiles.",
                  "_deepnote_index_column": "pbsommeil (%)"
                },
                {
                  "Description_FR": "Formule de la borne inférieure de l'intervalle de confiance",
                  "Description_EN": "Confidence interval lower bound formula",
                  "Precisions": "",
                  "_deepnote_index_column": "pbsommeil_inf (%)"
                },
                {
                  "Description_FR": "Formule de la borne supérieure de l'intervalle de confiance",
                  "Description_EN": "Confidence interval upper bound formula",
                  "Precisions": "",
                  "_deepnote_index_column": "pbsommeil_sup (%)"
                },
                {
                  "Description_FR": "Prévalence de l'adoption systématique des 4 mesures d’hygiène",
                  "Description_EN": "Prevalence of the systematic adoption of the 4 hygiene measures",
                  "Precisions": "Les 4 mesures d’hygiène adoptées systématiquement : Se laver régulièrement les mains ; Saluer sans serrer la main et arrêter les embrassades ; Tousser dans son coude ; Utiliser un mouchoir à usage unique.\nLes moyennes sont associées à un intervalle de confiance à 95%. Les classes sont calculées avec la méthode des quantiles.",
                  "_deepnote_index_column": "hyg4mes (%)"
                },
                {
                  "Description_FR": "Formule de la borne inférieure de l'intervalle de confiance",
                  "Description_EN": "Confidence interval lower bound formula",
                  "Precisions": "",
                  "_deepnote_index_column": "hyg4mes_inf (%)"
                },
                {
                  "Description_FR": "Formule de la borne supérieure de l'intervalle de confiance",
                  "Description_EN": "Confidence interval upper bound formula",
                  "Precisions": "",
                  "_deepnote_index_column": "hyg4mes_sup (%)"
                },
                {
                  "Description_FR": "Prévalences et évolutions régionales de l’adoption systématique du port du masque en public pendant l’épidémie de Covid-19 (% ; données pondérées).",
                  "Description_EN": "Prevalences of the systematic adoption of the mask in public during the Covid-19 epidemic",
                  "Precisions": "La question posée était : « Au cours des derniers jours, avez-vous adopté la mesure ‘Porter un masque en public’ ? ». N’ont été retenues que les personnes ayant déclaré adopter « systématiquement » cette mesure.\nLes prévalences sont associées à un intervalle de confiance à 95%. Les classes sont calculées avec la méthode des quantiles.",
                  "_deepnote_index_column": "portmasque (%)"
                },
                {
                  "Description_FR": "Formule de la borne inférieure de l'intervalle de confiance",
                  "Description_EN": "Confidence interval lower bound formula",
                  "Precisions": "",
                  "_deepnote_index_column": "portmasque_inf (%)"
                },
                {
                  "Description_FR": "Formule de la borne supérieure de l'intervalle de confiance",
                  "Description_EN": "Confidence interval upper bound formula",
                  "Precisions": "",
                  "_deepnote_index_column": "portmasque_sup (%)"
                }
              ],
              "rows_bottom": null
            },
            "text/plain": "                                                       Description_FR  \\\nColonne                                                                 \nregion                                                         région   \ndate                                                             date   \nanxiete (%)         Prévalences de l'anxiété dans le contexte de l...   \nanxiete_inf (%)     Formule de la borne inférieure de l'intervalle...   \nanxiete_sup (%)     Formule de la borne supérieure de l'intervalle...   \ndepression (%)      Prévalences de la dépression dans le contexte ...   \ndepression_inf (%)  Formule de la borne inférieure de l'intervalle...   \ndepression_sup (%)  Formule de la borne supérieure de l'intervalle...   \npbsommeil (%)       Prévalences des problèmes de sommeil dans le c...   \npbsommeil_inf (%)   Formule de la borne inférieure de l'intervalle...   \npbsommeil_sup (%)   Formule de la borne supérieure de l'intervalle...   \nhyg4mes (%)         Prévalence de l'adoption systématique des 4 me...   \nhyg4mes_inf (%)     Formule de la borne inférieure de l'intervalle...   \nhyg4mes_sup (%)     Formule de la borne supérieure de l'intervalle...   \nportmasque (%)      Prévalences et évolutions régionales de l’adop...   \nportmasque_inf (%)  Formule de la borne inférieure de l'intervalle...   \nportmasque_sup (%)  Formule de la borne supérieure de l'intervalle...   \n\n                                                       Description_EN  \\\nColonne                                                                 \nregion                                                         region   \ndate                                                             date   \nanxiete (%)         Prevalence of anxiety in the context of the Co...   \nanxiete_inf (%)               Confidence interval lower bound formula   \nanxiete_sup (%)               Confidence interval upper bound formula   \ndepression (%)      Prevalences of depression in the context of th...   \ndepression_inf (%)            Confidence interval lower bound formula   \ndepression_sup (%)            Confidence interval upper bound formula   \npbsommeil (%)       Prevalence of sleep problems in the context of...   \npbsommeil_inf (%)             Confidence interval lower bound formula   \npbsommeil_sup (%)             Confidence interval upper bound formula   \nhyg4mes (%)         Prevalence of the systematic adoption of the 4...   \nhyg4mes_inf (%)               Confidence interval lower bound formula   \nhyg4mes_sup (%)               Confidence interval upper bound formula   \nportmasque (%)      Prevalences of the systematic adoption of the ...   \nportmasque_inf (%)            Confidence interval lower bound formula   \nportmasque_sup (%)            Confidence interval upper bound formula   \n\n                                                           Precisions  \nColonne                                                                \nregion                                                                 \ndate                                                                   \nanxiete (%)         L’anxiété est mesurée par l’échelle HAD (Hospi...  \nanxiete_inf (%)                                                        \nanxiete_sup (%)                                                        \ndepression (%)      La dépression est mesurée par l’échelle HAD (H...  \ndepression_inf (%)                                                     \ndepression_sup (%)                                                     \npbsommeil (%)       La question posée était « Diriez-vous qu’au co...  \npbsommeil_inf (%)                                                      \npbsommeil_sup (%)                                                      \nhyg4mes (%)         Les 4 mesures d’hygiène adoptées systématiquem...  \nhyg4mes_inf (%)                                                        \nhyg4mes_sup (%)                                                        \nportmasque (%)      La question posée était : « Au cours des derni...  \nportmasque_inf (%)                                                     \nportmasque_sup (%)                                                     ",
            "text/html": "<div>\n<style scoped>\n    .dataframe tbody tr th:only-of-type {\n        vertical-align: middle;\n    }\n\n    .dataframe tbody tr th {\n        vertical-align: top;\n    }\n\n    .dataframe thead th {\n        text-align: right;\n    }\n</style>\n<table border=\"1\" class=\"dataframe\">\n  <thead>\n    <tr style=\"text-align: right;\">\n      <th></th>\n      <th>Description_FR</th>\n      <th>Description_EN</th>\n      <th>Precisions</th>\n    </tr>\n    <tr>\n      <th>Colonne</th>\n      <th></th>\n      <th></th>\n      <th></th>\n    </tr>\n  </thead>\n  <tbody>\n    <tr>\n      <th>region</th>\n      <td>région</td>\n      <td>region</td>\n      <td></td>\n    </tr>\n    <tr>\n      <th>date</th>\n      <td>date</td>\n      <td>date</td>\n      <td></td>\n    </tr>\n    <tr>\n      <th>anxiete (%)</th>\n      <td>Prévalences de l'anxiété dans le contexte de l...</td>\n      <td>Prevalence of anxiety in the context of the Co...</td>\n      <td>L’anxiété est mesurée par l’échelle HAD (Hospi...</td>\n    </tr>\n    <tr>\n      <th>anxiete_inf (%)</th>\n      <td>Formule de la borne inférieure de l'intervalle...</td>\n      <td>Confidence interval lower bound formula</td>\n      <td></td>\n    </tr>\n    <tr>\n      <th>anxiete_sup (%)</th>\n      <td>Formule de la borne supérieure de l'intervalle...</td>\n      <td>Confidence interval upper bound formula</td>\n      <td></td>\n    </tr>\n    <tr>\n      <th>depression (%)</th>\n      <td>Prévalences de la dépression dans le contexte ...</td>\n      <td>Prevalences of depression in the context of th...</td>\n      <td>La dépression est mesurée par l’échelle HAD (H...</td>\n    </tr>\n    <tr>\n      <th>depression_inf (%)</th>\n      <td>Formule de la borne inférieure de l'intervalle...</td>\n      <td>Confidence interval lower bound formula</td>\n      <td></td>\n    </tr>\n    <tr>\n      <th>depression_sup (%)</th>\n      <td>Formule de la borne supérieure de l'intervalle...</td>\n      <td>Confidence interval upper bound formula</td>\n      <td></td>\n    </tr>\n    <tr>\n      <th>pbsommeil (%)</th>\n      <td>Prévalences des problèmes de sommeil dans le c...</td>\n      <td>Prevalence of sleep problems in the context of...</td>\n      <td>La question posée était « Diriez-vous qu’au co...</td>\n    </tr>\n    <tr>\n      <th>pbsommeil_inf (%)</th>\n      <td>Formule de la borne inférieure de l'intervalle...</td>\n      <td>Confidence interval lower bound formula</td>\n      <td></td>\n    </tr>\n    <tr>\n      <th>pbsommeil_sup (%)</th>\n      <td>Formule de la borne supérieure de l'intervalle...</td>\n      <td>Confidence interval upper bound formula</td>\n      <td></td>\n    </tr>\n    <tr>\n      <th>hyg4mes (%)</th>\n      <td>Prévalence de l'adoption systématique des 4 me...</td>\n      <td>Prevalence of the systematic adoption of the 4...</td>\n      <td>Les 4 mesures d’hygiène adoptées systématiquem...</td>\n    </tr>\n    <tr>\n      <th>hyg4mes_inf (%)</th>\n      <td>Formule de la borne inférieure de l'intervalle...</td>\n      <td>Confidence interval lower bound formula</td>\n      <td></td>\n    </tr>\n    <tr>\n      <th>hyg4mes_sup (%)</th>\n      <td>Formule de la borne supérieure de l'intervalle...</td>\n      <td>Confidence interval upper bound formula</td>\n      <td></td>\n    </tr>\n    <tr>\n      <th>portmasque (%)</th>\n      <td>Prévalences et évolutions régionales de l’adop...</td>\n      <td>Prevalences of the systematic adoption of the ...</td>\n      <td>La question posée était : « Au cours des derni...</td>\n    </tr>\n    <tr>\n      <th>portmasque_inf (%)</th>\n      <td>Formule de la borne inférieure de l'intervalle...</td>\n      <td>Confidence interval lower bound formula</td>\n      <td></td>\n    </tr>\n    <tr>\n      <th>portmasque_sup (%)</th>\n      <td>Formule de la borne supérieure de l'intervalle...</td>\n      <td>Confidence interval upper bound formula</td>\n      <td></td>\n    </tr>\n  </tbody>\n</table>\n</div>"
          },
          "metadata": {}
        }
      ],
      "execution_count": null
    },
    {
      "cell_type": "markdown",
      "source": "# Plot the map",
      "metadata": {
        "tags": [],
        "cell_id": "00007-af2df76e-20d8-4355-a20a-a953f4158375",
        "deepnote_cell_type": "markdown"
      }
    },
    {
      "cell_type": "code",
      "source": "!pip install geopandas",
      "metadata": {
        "tags": [],
        "cell_id": "00007-d777beee-eb88-46fc-aade-451dc2f6fcee",
        "deepnote_to_be_reexecuted": false,
        "source_hash": "776af362",
        "execution_start": 1619195523033,
        "execution_millis": 5303,
        "output_cleared": true,
        "deepnote_cell_type": "code"
      },
      "outputs": [],
      "execution_count": null
    },
    {
      "cell_type": "code",
      "source": "import geopandas as gpd\n\n# On récupère les polygone pour chaque département\nfrance = gpd.read_file(\"carto/departements-20140306-100m.shp\")\n\n# On convertit les code insee et on ne conserve que ceux de la france métropolitaine\n# On peut alors les utiliser comme index du DF france\nmetropolitan_code = [str(i).zfill(2) for i in range(1, 96)]\nfrance = france.loc[france['code_insee'].isin(metropolitan_code)]\nfrance['code_insee'] = france['code_insee'].astype(int)\nfrance = france.set_index('code_insee')\n\nfrance.tail(10)",
      "metadata": {
        "tags": [],
        "cell_id": "00007-89a102fe-f8c0-4e8a-9efe-a77ffba09467",
        "deepnote_to_be_reexecuted": false,
        "source_hash": "4fd978f4",
        "execution_millis": 413,
        "execution_start": 1619198931750,
        "deepnote_cell_type": "code"
      },
      "outputs": [
        {
          "output_type": "execute_result",
          "execution_count": 230,
          "data": {
            "application/vnd.deepnote.dataframe.v2+json": {
              "error": "Traceback (most recent call last):\n  File \"/shared-libs/code/variable_explorer.py\", line 143, in dataframe_formatter\n    return { MIME_TYPE: describe_pd_dataframe(df) }\n  File \"/shared-libs/code/variable_explorer_helpers.py\", line 154, in describe_pd_dataframe\n    if (is_type_numeric(column.dtype)):\n  File \"/shared-libs/code/variable_explorer_helpers.py\", line 13, in is_type_numeric\n    return np.issubdtype(dtype, np.number)\n  File \"/shared-libs/python3.7/py/lib/python3.7/site-packages/numpy/core/numerictypes.py\", line 388, in issubdtype\n    arg1 = dtype(arg1).type\nTypeError: Cannot interpret '<geopandas.array.GeometryDtype object at 0x7f48601daf90>' as a data type\n"
            },
            "text/plain": "                              nom  nuts3                       wikipedia  \\\ncode_insee                                                                 \n86                         Vienne  FR534   b'fr:Vienne (d\\xe9partement)'   \n87                   Haute-Vienne  FR633                 fr:Haute-Vienne   \n88                         Vosges  FR414   b'fr:Vosges (d\\xe9partement)'   \n89                          Yonne  FR264    b'fr:Yonne (d\\xe9partement)'   \n90          Territoire-de-Belfort  FR434        fr:Territoire de Belfort   \n91                        Essonne  FR104  b'fr:Essonne (d\\xe9partement)'   \n92                 Hauts-de-Seine  FR105               fr:Hauts-de-Seine   \n93              Seine-Saint-Denis  FR106            fr:Seine-Saint-Denis   \n94                   Val-de-Marne  FR107                 fr:Val-de-Marne   \n95                     Val-d'Oise  FR108                   fr:Val-d'Oise   \n\n                                                     geometry  \ncode_insee                                                     \n86          POLYGON ((0.82849 46.17233, 0.83199 46.16931, ...  \n87          POLYGON ((0.85969 45.61327, 0.84923 45.59327, ...  \n88          POLYGON ((5.86441 47.94605, 5.85691 47.94512, ...  \n89          POLYGON ((3.49164 47.55995, 3.48988 47.55563, ...  \n90          POLYGON ((7.09691 47.49518, 7.07485 47.48818, ...  \n91          POLYGON ((2.39233 48.33593, 2.39376 48.32678, ...  \n92          POLYGON ((2.31993 48.77075, 2.31588 48.76670, ...  \n93          POLYGON ((2.41899 48.84939, 2.41636 48.84924, ...  \n94          POLYGON ((2.41450 48.71780, 2.41573 48.72088, ...  \n95          POLYGON ((1.79674 49.07196, 1.79991 49.06425, ...  ",
            "text/html": "<div>\n<style scoped>\n    .dataframe tbody tr th:only-of-type {\n        vertical-align: middle;\n    }\n\n    .dataframe tbody tr th {\n        vertical-align: top;\n    }\n\n    .dataframe thead th {\n        text-align: right;\n    }\n</style>\n<table border=\"1\" class=\"dataframe\">\n  <thead>\n    <tr style=\"text-align: right;\">\n      <th></th>\n      <th>nom</th>\n      <th>nuts3</th>\n      <th>wikipedia</th>\n      <th>geometry</th>\n    </tr>\n    <tr>\n      <th>code_insee</th>\n      <th></th>\n      <th></th>\n      <th></th>\n      <th></th>\n    </tr>\n  </thead>\n  <tbody>\n    <tr>\n      <th>86</th>\n      <td>Vienne</td>\n      <td>FR534</td>\n      <td>b'fr:Vienne (d\\xe9partement)'</td>\n      <td>POLYGON ((0.82849 46.17233, 0.83199 46.16931, ...</td>\n    </tr>\n    <tr>\n      <th>87</th>\n      <td>Haute-Vienne</td>\n      <td>FR633</td>\n      <td>fr:Haute-Vienne</td>\n      <td>POLYGON ((0.85969 45.61327, 0.84923 45.59327, ...</td>\n    </tr>\n    <tr>\n      <th>88</th>\n      <td>Vosges</td>\n      <td>FR414</td>\n      <td>b'fr:Vosges (d\\xe9partement)'</td>\n      <td>POLYGON ((5.86441 47.94605, 5.85691 47.94512, ...</td>\n    </tr>\n    <tr>\n      <th>89</th>\n      <td>Yonne</td>\n      <td>FR264</td>\n      <td>b'fr:Yonne (d\\xe9partement)'</td>\n      <td>POLYGON ((3.49164 47.55995, 3.48988 47.55563, ...</td>\n    </tr>\n    <tr>\n      <th>90</th>\n      <td>Territoire-de-Belfort</td>\n      <td>FR434</td>\n      <td>fr:Territoire de Belfort</td>\n      <td>POLYGON ((7.09691 47.49518, 7.07485 47.48818, ...</td>\n    </tr>\n    <tr>\n      <th>91</th>\n      <td>Essonne</td>\n      <td>FR104</td>\n      <td>b'fr:Essonne (d\\xe9partement)'</td>\n      <td>POLYGON ((2.39233 48.33593, 2.39376 48.32678, ...</td>\n    </tr>\n    <tr>\n      <th>92</th>\n      <td>Hauts-de-Seine</td>\n      <td>FR105</td>\n      <td>fr:Hauts-de-Seine</td>\n      <td>POLYGON ((2.31993 48.77075, 2.31588 48.76670, ...</td>\n    </tr>\n    <tr>\n      <th>93</th>\n      <td>Seine-Saint-Denis</td>\n      <td>FR106</td>\n      <td>fr:Seine-Saint-Denis</td>\n      <td>POLYGON ((2.41899 48.84939, 2.41636 48.84924, ...</td>\n    </tr>\n    <tr>\n      <th>94</th>\n      <td>Val-de-Marne</td>\n      <td>FR107</td>\n      <td>fr:Val-de-Marne</td>\n      <td>POLYGON ((2.41450 48.71780, 2.41573 48.72088, ...</td>\n    </tr>\n    <tr>\n      <th>95</th>\n      <td>Val-d'Oise</td>\n      <td>FR108</td>\n      <td>fr:Val-d'Oise</td>\n      <td>POLYGON ((1.79674 49.07196, 1.79991 49.06425, ...</td>\n    </tr>\n  </tbody>\n</table>\n</div>"
          },
          "metadata": {}
        }
      ],
      "execution_count": null
    },
    {
      "cell_type": "code",
      "source": "# On charge les données nous permettant de mapper région et code insee de départements\ndepartements = pd.read_csv('departements-region.csv').drop('dep_name', axis=1)\n\n# On ne conserve que ceux en france métropolitaine\ndepartements = departements.loc[departements['num_dep'].isin(metropolitan_code)]\n\n# On les groupes par régions\ndepartements['num_dep'] = departements['num_dep'].apply(lambda x: [int(x)])\ndepartements = departements.groupby('region_name').sum()\n\n# Small fix\ndepartements.rename(index={'Grand Est': 'Grand-Est'}, inplace=True)\n\ndepartements",
      "metadata": {
        "tags": [],
        "cell_id": "00010-4d817105-842c-494d-909d-279f6976c469",
        "deepnote_to_be_reexecuted": false,
        "source_hash": "39eab76d",
        "execution_millis": 43,
        "execution_start": 1619198723890,
        "deepnote_cell_type": "code"
      },
      "outputs": [
        {
          "output_type": "execute_result",
          "execution_count": 226,
          "data": {
            "application/vnd.deepnote.dataframe.v2+json": {
              "row_count": 12,
              "column_count": 1,
              "columns": [
                {
                  "name": "num_dep",
                  "dtype": "object",
                  "stats": {
                    "unique_count": 12,
                    "nan_count": 0,
                    "categories": [
                      {
                        "name": "[1, 3, 7, 15, 26, 38, 42, 43, 63, 69, 73, 74]",
                        "count": 1
                      },
                      {
                        "name": "[21, 25, 39, 58, 70, 71, 89, 90]",
                        "count": 1
                      },
                      {
                        "name": "10 others",
                        "count": 10
                      }
                    ]
                  }
                },
                {
                  "name": "_deepnote_index_column",
                  "dtype": "object"
                }
              ],
              "rows_top": [
                {
                  "num_dep": "[1, 3, 7, 15, 26, 38, 42, 43, 63, 69, 73, 74]",
                  "_deepnote_index_column": "Auvergne-Rhône-Alpes"
                },
                {
                  "num_dep": "[21, 25, 39, 58, 70, 71, 89, 90]",
                  "_deepnote_index_column": "Bourgogne-Franche-Comté"
                },
                {
                  "num_dep": "[22, 29, 35, 56]",
                  "_deepnote_index_column": "Bretagne"
                },
                {
                  "num_dep": "[18, 28, 36, 37, 41, 45]",
                  "_deepnote_index_column": "Centre-Val de Loire"
                },
                {
                  "num_dep": "[8, 10, 51, 52, 54, 55, 57, 67, 68, 88]",
                  "_deepnote_index_column": "Grand-Est"
                },
                {
                  "num_dep": "[2, 59, 60, 62, 80]",
                  "_deepnote_index_column": "Hauts-de-France"
                },
                {
                  "num_dep": "[14, 27, 50, 61, 76]",
                  "_deepnote_index_column": "Normandie"
                },
                {
                  "num_dep": "[16, 17, 19, 23, 24, 33, 40, 47, 64, 79, 86, 87]",
                  "_deepnote_index_column": "Nouvelle-Aquitaine"
                },
                {
                  "num_dep": "[9, 11, 12, 30, 31, 32, 34, 46, 48, 65, 66, 81, 82]",
                  "_deepnote_index_column": "Occitanie"
                },
                {
                  "num_dep": "[44, 49, 53, 72, 85]",
                  "_deepnote_index_column": "Pays de la Loire"
                },
                {
                  "num_dep": "[4, 5, 6, 13, 83, 84]",
                  "_deepnote_index_column": "Provence-Alpes-Côte d'Azur"
                },
                {
                  "num_dep": "[75, 77, 78, 91, 92, 93, 94, 95]",
                  "_deepnote_index_column": "Île-de-France"
                }
              ],
              "rows_bottom": null
            },
            "text/plain": "                                                                      num_dep\nregion_name                                                                  \nAuvergne-Rhône-Alpes            [1, 3, 7, 15, 26, 38, 42, 43, 63, 69, 73, 74]\nBourgogne-Franche-Comté                      [21, 25, 39, 58, 70, 71, 89, 90]\nBretagne                                                     [22, 29, 35, 56]\nCentre-Val de Loire                                  [18, 28, 36, 37, 41, 45]\nGrand-Est                             [8, 10, 51, 52, 54, 55, 57, 67, 68, 88]\nHauts-de-France                                           [2, 59, 60, 62, 80]\nNormandie                                                [14, 27, 50, 61, 76]\nNouvelle-Aquitaine           [16, 17, 19, 23, 24, 33, 40, 47, 64, 79, 86, 87]\nOccitanie                   [9, 11, 12, 30, 31, 32, 34, 46, 48, 65, 66, 81...\nPays de la Loire                                         [44, 49, 53, 72, 85]\nProvence-Alpes-Côte d'Azur                              [4, 5, 6, 13, 83, 84]\nÎle-de-France                                [75, 77, 78, 91, 92, 93, 94, 95]",
            "text/html": "<div>\n<style scoped>\n    .dataframe tbody tr th:only-of-type {\n        vertical-align: middle;\n    }\n\n    .dataframe tbody tr th {\n        vertical-align: top;\n    }\n\n    .dataframe thead th {\n        text-align: right;\n    }\n</style>\n<table border=\"1\" class=\"dataframe\">\n  <thead>\n    <tr style=\"text-align: right;\">\n      <th></th>\n      <th>num_dep</th>\n    </tr>\n    <tr>\n      <th>region_name</th>\n      <th></th>\n    </tr>\n  </thead>\n  <tbody>\n    <tr>\n      <th>Auvergne-Rhône-Alpes</th>\n      <td>[1, 3, 7, 15, 26, 38, 42, 43, 63, 69, 73, 74]</td>\n    </tr>\n    <tr>\n      <th>Bourgogne-Franche-Comté</th>\n      <td>[21, 25, 39, 58, 70, 71, 89, 90]</td>\n    </tr>\n    <tr>\n      <th>Bretagne</th>\n      <td>[22, 29, 35, 56]</td>\n    </tr>\n    <tr>\n      <th>Centre-Val de Loire</th>\n      <td>[18, 28, 36, 37, 41, 45]</td>\n    </tr>\n    <tr>\n      <th>Grand-Est</th>\n      <td>[8, 10, 51, 52, 54, 55, 57, 67, 68, 88]</td>\n    </tr>\n    <tr>\n      <th>Hauts-de-France</th>\n      <td>[2, 59, 60, 62, 80]</td>\n    </tr>\n    <tr>\n      <th>Normandie</th>\n      <td>[14, 27, 50, 61, 76]</td>\n    </tr>\n    <tr>\n      <th>Nouvelle-Aquitaine</th>\n      <td>[16, 17, 19, 23, 24, 33, 40, 47, 64, 79, 86, 87]</td>\n    </tr>\n    <tr>\n      <th>Occitanie</th>\n      <td>[9, 11, 12, 30, 31, 32, 34, 46, 48, 65, 66, 81...</td>\n    </tr>\n    <tr>\n      <th>Pays de la Loire</th>\n      <td>[44, 49, 53, 72, 85]</td>\n    </tr>\n    <tr>\n      <th>Provence-Alpes-Côte d'Azur</th>\n      <td>[4, 5, 6, 13, 83, 84]</td>\n    </tr>\n    <tr>\n      <th>Île-de-France</th>\n      <td>[75, 77, 78, 91, 92, 93, 94, 95]</td>\n    </tr>\n  </tbody>\n</table>\n</div>"
          },
          "metadata": {}
        }
      ],
      "execution_count": null
    },
    {
      "cell_type": "code",
      "source": "# On sous découpe le df pour la date 30/03 : ceci est un premier test seulement sur la date 30/03\ndata = df[df['date'] == '30/03'][['region', 'anxiete (%)']]\n\n# On créé une nouvelle colonne dans notre df france pour l'anxiete retenu le 30/03\n# Et on la mets à jour pour chaque département\nfrance['anxiete_30/03'] = 0\nfor index, row in data.iterrows():\n    anxiete = row['anxiete (%)']\n    reg = row['region']\n    codes = departements.loc[reg, 'num_dep']\n    france.loc[codes, 'anxiete_30/03'] = anxiete",
      "metadata": {
        "tags": [],
        "cell_id": "00010-c95cb7cb-fcf5-43c8-9aa1-570a4404d2b1",
        "deepnote_to_be_reexecuted": false,
        "source_hash": "29f82df4",
        "execution_millis": 18,
        "execution_start": 1619199464698,
        "deepnote_cell_type": "code"
      },
      "outputs": [],
      "execution_count": null
    },
    {
      "cell_type": "code",
      "source": "import matplotlib.pyplot as plt\n\n# Affichage \nfig, ax = plt.subplots(figsize = (10,10)) \nfrance.plot(column=\"anxiete_30/03\",ax=ax, legend=True) ",
      "metadata": {
        "tags": [],
        "cell_id": "00009-d960557b-92c8-480e-a8e4-017ecf5ba8f0",
        "deepnote_to_be_reexecuted": false,
        "source_hash": "ab8eb743",
        "execution_millis": 926,
        "execution_start": 1619199278851,
        "deepnote_cell_type": "code"
      },
      "outputs": [
        {
          "output_type": "execute_result",
          "execution_count": 251,
          "data": {
            "text/plain": "<AxesSubplot:>"
          },
          "metadata": {}
        },
        {
          "data": {
            "text/plain": "<Figure size 720x720 with 2 Axes>",
            "image/png": "[encoded data removed]"
          },
          "metadata": {
            "needs_background": "light"
          },
          "output_type": "display_data"
        }
      ],
      "execution_count": null
    },
    {
      "cell_type": "markdown",
      "source": "## Plot version 2\n\n@Yannis ... j'essaye de simplifier ton code pour qu'il soit plus facilement généralisable",
      "metadata": {
        "tags": [],
        "cell_id": "00013-cdb34e49-e831-4435-8ef1-e02b2f6d72e9",
        "deepnote_cell_type": "markdown"
      }
    },
    {
      "cell_type": "code",
      "source": "import geopandas as gpd",
      "metadata": {
        "tags": [],
        "cell_id": "00014-1fec7a66-78de-4938-bbe1-c7580c984445",
        "deepnote_cell_type": "code"
      },
      "outputs": [],
      "execution_count": null
    },
    {
      "cell_type": "code",
      "source": "# On récupère les polygone pour chaque département\nfrance = gpd.read_file(\"carto/departements-20140306-100m.shp\")\n\n# On convertit les code insee et on ne conserve que ceux de la france métropolitaine\n# On peut alors les utiliser comme index du DF france\nmetropolitan_code = [str(i).zfill(2) for i in range(1, 96)]\nfrance = france.loc[france['code_insee'].isin(metropolitan_code)]\nfrance['code_insee'] = france['code_insee'].astype(int)\nfrance = france.set_index('code_insee').drop(['nuts3','wikipedia'], axis=1)\n\nfrance.tail(10)",
      "metadata": {
        "tags": [],
        "cell_id": "00010-c55a02a3-4616-496c-9066-034584de92a0",
        "deepnote_to_be_reexecuted": false,
        "source_hash": "9a856979",
        "execution_millis": 397,
        "execution_start": 1619204957273,
        "deepnote_cell_type": "code"
      },
      "outputs": [
        {
          "output_type": "execute_result",
          "execution_count": 287,
          "data": {
            "application/vnd.deepnote.dataframe.v2+json": {
              "error": "Traceback (most recent call last):\n  File \"/shared-libs/code/variable_explorer.py\", line 143, in dataframe_formatter\n    return { MIME_TYPE: describe_pd_dataframe(df) }\n  File \"/shared-libs/code/variable_explorer_helpers.py\", line 154, in describe_pd_dataframe\n    if (is_type_numeric(column.dtype)):\n  File \"/shared-libs/code/variable_explorer_helpers.py\", line 13, in is_type_numeric\n    return np.issubdtype(dtype, np.number)\n  File \"/shared-libs/python3.7/py/lib/python3.7/site-packages/numpy/core/numerictypes.py\", line 388, in issubdtype\n    arg1 = dtype(arg1).type\nTypeError: Cannot interpret '<geopandas.array.GeometryDtype object at 0x7f48601daf90>' as a data type\n"
            },
            "text/plain": "                              nom  \\\ncode_insee                          \n86                         Vienne   \n87                   Haute-Vienne   \n88                         Vosges   \n89                          Yonne   \n90          Territoire-de-Belfort   \n91                        Essonne   \n92                 Hauts-de-Seine   \n93              Seine-Saint-Denis   \n94                   Val-de-Marne   \n95                     Val-d'Oise   \n\n                                                     geometry  \ncode_insee                                                     \n86          POLYGON ((0.82849 46.17233, 0.83199 46.16931, ...  \n87          POLYGON ((0.85969 45.61327, 0.84923 45.59327, ...  \n88          POLYGON ((5.86441 47.94605, 5.85691 47.94512, ...  \n89          POLYGON ((3.49164 47.55995, 3.48988 47.55563, ...  \n90          POLYGON ((7.09691 47.49518, 7.07485 47.48818, ...  \n91          POLYGON ((2.39233 48.33593, 2.39376 48.32678, ...  \n92          POLYGON ((2.31993 48.77075, 2.31588 48.76670, ...  \n93          POLYGON ((2.41899 48.84939, 2.41636 48.84924, ...  \n94          POLYGON ((2.41450 48.71780, 2.41573 48.72088, ...  \n95          POLYGON ((1.79674 49.07196, 1.79991 49.06425, ...  ",
            "text/html": "<div>\n<style scoped>\n    .dataframe tbody tr th:only-of-type {\n        vertical-align: middle;\n    }\n\n    .dataframe tbody tr th {\n        vertical-align: top;\n    }\n\n    .dataframe thead th {\n        text-align: right;\n    }\n</style>\n<table border=\"1\" class=\"dataframe\">\n  <thead>\n    <tr style=\"text-align: right;\">\n      <th></th>\n      <th>nom</th>\n      <th>geometry</th>\n    </tr>\n    <tr>\n      <th>code_insee</th>\n      <th></th>\n      <th></th>\n    </tr>\n  </thead>\n  <tbody>\n    <tr>\n      <th>86</th>\n      <td>Vienne</td>\n      <td>POLYGON ((0.82849 46.17233, 0.83199 46.16931, ...</td>\n    </tr>\n    <tr>\n      <th>87</th>\n      <td>Haute-Vienne</td>\n      <td>POLYGON ((0.85969 45.61327, 0.84923 45.59327, ...</td>\n    </tr>\n    <tr>\n      <th>88</th>\n      <td>Vosges</td>\n      <td>POLYGON ((5.86441 47.94605, 5.85691 47.94512, ...</td>\n    </tr>\n    <tr>\n      <th>89</th>\n      <td>Yonne</td>\n      <td>POLYGON ((3.49164 47.55995, 3.48988 47.55563, ...</td>\n    </tr>\n    <tr>\n      <th>90</th>\n      <td>Territoire-de-Belfort</td>\n      <td>POLYGON ((7.09691 47.49518, 7.07485 47.48818, ...</td>\n    </tr>\n    <tr>\n      <th>91</th>\n      <td>Essonne</td>\n      <td>POLYGON ((2.39233 48.33593, 2.39376 48.32678, ...</td>\n    </tr>\n    <tr>\n      <th>92</th>\n      <td>Hauts-de-Seine</td>\n      <td>POLYGON ((2.31993 48.77075, 2.31588 48.76670, ...</td>\n    </tr>\n    <tr>\n      <th>93</th>\n      <td>Seine-Saint-Denis</td>\n      <td>POLYGON ((2.41899 48.84939, 2.41636 48.84924, ...</td>\n    </tr>\n    <tr>\n      <th>94</th>\n      <td>Val-de-Marne</td>\n      <td>POLYGON ((2.41450 48.71780, 2.41573 48.72088, ...</td>\n    </tr>\n    <tr>\n      <th>95</th>\n      <td>Val-d'Oise</td>\n      <td>POLYGON ((1.79674 49.07196, 1.79991 49.06425, ...</td>\n    </tr>\n  </tbody>\n</table>\n</div>"
          },
          "metadata": {}
        }
      ],
      "execution_count": null
    },
    {
      "cell_type": "code",
      "source": "## Ensuite, on ajoute les régions comme colonne\n# On charge les données nous permettant de mapper région et code insee de départements\ndepartements = pd.read_csv('departements-region.csv').drop('dep_name', axis=1)\ndepartements.replace('Grand Est', 'Grand-Est', inplace=True)\n\n# On ne conserve que ceux en france métropolitaine\ndepartements = departements.loc[departements['num_dep'].isin(metropolitan_code)]\ndepartements['num_dep'] = departements['num_dep'].astype(int) #je perds la corse dans la bataille\n\n#-> utilisation de la fonction merge (qui fait en faite une jointure entre les tables)\nfrance=france.merge(departements, left_on=\"code_insee\", right_on=\"num_dep\", how=\"inner\")",
      "metadata": {
        "tags": [],
        "cell_id": "00016-c118e987-e8e7-4971-b3db-dee414008cfa",
        "deepnote_to_be_reexecuted": false,
        "source_hash": "39159975",
        "execution_millis": 46,
        "execution_start": 1619204958558,
        "deepnote_cell_type": "code"
      },
      "outputs": [],
      "execution_count": null
    },
    {
      "cell_type": "code",
      "source": "#je transforme en date ... (je sais pas si c'est le bon sens)\ndf['date']=pd.to_datetime(df['date'] + \"/21\")",
      "metadata": {
        "tags": [],
        "cell_id": "00017-8c2c7282-8ee6-41dc-b695-2f7996d1f612",
        "deepnote_to_be_reexecuted": false,
        "source_hash": "6698d910",
        "execution_millis": 8,
        "execution_start": 1619204539640,
        "deepnote_cell_type": "code"
      },
      "outputs": [],
      "execution_count": null
    },
    {
      "cell_type": "code",
      "source": "# maintenant ... une cellule avec tout ce qui faut pour 1 indicateur\n#on sélectionne la période\nfrom_date=\"2021-03-30\"\nto_date=\"2021-03-30\"\n\n#je fais que les 3 indices liés à la depression\ndatatomap=df[(df.date>=from_date) & (df.date<=to_date) ].groupby(['region']).agg({\"anxiete (%)\":'mean', \"depression (%)\":'mean', \"pbsommeil (%)\":'mean'}).reset_index()\n\n#on fait maintenant le lien avec la carte en utilisation le nom des régions\ndatatomap=france.merge(datatomap, left_on=\"region_name\", right_on=\"region\", how=\"inner\")\n\n# Affichage\nfig, ax = plt.subplots(figsize = (30,10)) \nax = fig.add_subplot(1,3,1)\nplt.title(f'Anxiete de {from_date} à {to_date}')\ndatatomap.plot(column=\"anxiete (%)\", ax=ax, legend=True, cmap=plt.get_cmap(\"Reds\")) \nax = fig.add_subplot(1,3,2)\nplt.title(f'Depression de {from_date} à {to_date}')\ndatatomap.plot(column=\"depression (%)\", ax=ax, legend=True, cmap=plt.get_cmap(\"Reds\")) \nax = fig.add_subplot(1,3,3)\nplt.title(f'Problème de sommeil de {from_date} à {to_date}')\ndatatomap.plot(column=\"pbsommeil (%)\", ax=ax, legend=True, cmap=plt.get_cmap(\"Reds\")) \n",
      "metadata": {
        "tags": [],
        "cell_id": "00018-cdf3f3d7-a5e6-41c8-9821-9432c005f35d",
        "deepnote_to_be_reexecuted": false,
        "source_hash": "5c346e8b",
        "execution_millis": 3146,
        "execution_start": 1619205283830,
        "deepnote_cell_type": "code"
      },
      "outputs": [
        {
          "output_type": "execute_result",
          "execution_count": 291,
          "data": {
            "text/plain": "<AxesSubplot:title={'center':'Problème de sommeil de 2021-03-30 à 2021-03-30'}>"
          },
          "metadata": {}
        },
        {
          "data": {
            "text/plain": "<Figure size 2160x720 with 7 Axes>",
            "image/png": "[encoded data removed]"
          },
          "metadata": {
            "needs_background": "light"
          },
          "output_type": "display_data"
        }
      ],
      "execution_count": null
    },
    {
      "cell_type": "code",
      "source": "",
      "metadata": {
        "tags": [],
        "cell_id": "00019-11ace608-ab57-4e36-a705-df57d5a02083",
        "deepnote_cell_type": "code"
      },
      "outputs": [],
      "execution_count": null
    },
    {
      "cell_type": "markdown",
      "source": "<a style='text-decoration:none;line-height:16px;display:flex;color:#5B5B62;padding:10px;justify-content:end;' href='https://deepnote.com?utm_source=created-in-deepnote-cell&projectId=89e69a29-2e97-484d-9bb4-6946e10f2a3b' target=\"_blank\">\n<img alt='Created in deepnote.com' style='display:inline;max-height:16px;margin:0px;margin-right:7.5px;' src='data:image/svg+xml;base64,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' > </img>\nCreated in <span style='font-weight:600;margin-left:4px;'>Deepnote</span></a>",
      "metadata": {
        "tags": [],
        "created_in_deepnote_cell": true,
        "deepnote_cell_type": "markdown"
      }
    }
  ],
  "nbformat": 4,
  "nbformat_minor": 2,
  "metadata": {
    "orig_nbformat": 2,
    "deepnote": {
      "is_reactive": false
    },
    "deepnote_notebook_id": "44be1560-26d3-4fea-9bc6-578430649419",
    "deepnote_execution_queue": []
  }
}